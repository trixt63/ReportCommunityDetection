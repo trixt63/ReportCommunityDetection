{
 "cells": [
  {
   "cell_type": "code",
   "execution_count": 11,
   "metadata": {
    "collapsed": true,
    "ExecuteTime": {
     "end_time": "2023-08-09T07:29:08.620512924Z",
     "start_time": "2023-08-09T07:29:08.591855739Z"
    }
   },
   "outputs": [],
   "source": [
    "import pandas as pd\n",
    "import json\n",
    "\n",
    "from databases.mongodb import MongoDB\n",
    "from databases.mongodb_entity import MongoDBEntity\n",
    "\n",
    "db = MongoDB()\n",
    "entity_db = MongoDBEntity()"
   ]
  },
  {
   "cell_type": "markdown",
   "source": [
    "0x38"
   ],
   "metadata": {
    "collapsed": false,
    "ExecuteTime": {
     "end_time": "2023-08-09T07:58:06.696011980Z",
     "start_time": "2023-08-09T07:58:06.648799095Z"
    }
   },
   "outputs": [],
   "execution_count": 24
  },
  {
   "cell_type": "code",
   "execution_count": 29,
   "outputs": [],
   "source": [
    "data = pd.read_csv('.data/0x38_wallets_pairs.csv')\n",
    "data.head()"
   ],
   "metadata": {
    "collapsed": false,
    "ExecuteTime": {
     "end_time": "2023-08-09T07:59:33.639170786Z",
     "start_time": "2023-08-09T07:59:33.595679856Z"
    }
   }
  },
  {
   "cell_type": "code",
   "execution_count": 18,
   "outputs": [
    {
     "data": {
      "text/plain": "   Unnamed: 0                                           x  \\\n0           0  0x7826d1fd382d877a2f202409c556fe21bc0432e9   \n1           1  0x6376f6e4fec4ec5aba9b8bd2d6d85c610eee0854   \n2           2  0xb1ff25df6ecdd5f94b0ba7b3afdc8a44758cad9f   \n3           3  0x125abbecbf3172b5a57133893f73ca4a53504e1b   \n4           4  0x25324601c880f232c0559b95ce459efbe82a9575   \n\n                                            y  \n0  0xef59258c9dd77d650b564e08591a97d86568c46d  \n1  0x08d081f9e8af4f7735387a8fc727c13e22d3d44b  \n2  0x7f05aad364d5b2dc641058128362377a193564cf  \n3  0x0d31d2e6cc8784302a0fa71f50f486ccebb85dbd  \n4  0x18d05ff1e903b945f87c61c521ded1994555b2f0  ",
      "text/html": "<div>\n<style scoped>\n    .dataframe tbody tr th:only-of-type {\n        vertical-align: middle;\n    }\n\n    .dataframe tbody tr th {\n        vertical-align: top;\n    }\n\n    .dataframe thead th {\n        text-align: right;\n    }\n</style>\n<table border=\"1\" class=\"dataframe\">\n  <thead>\n    <tr style=\"text-align: right;\">\n      <th></th>\n      <th>Unnamed: 0</th>\n      <th>x</th>\n      <th>y</th>\n    </tr>\n  </thead>\n  <tbody>\n    <tr>\n      <th>0</th>\n      <td>0</td>\n      <td>0x7826d1fd382d877a2f202409c556fe21bc0432e9</td>\n      <td>0xef59258c9dd77d650b564e08591a97d86568c46d</td>\n    </tr>\n    <tr>\n      <th>1</th>\n      <td>1</td>\n      <td>0x6376f6e4fec4ec5aba9b8bd2d6d85c610eee0854</td>\n      <td>0x08d081f9e8af4f7735387a8fc727c13e22d3d44b</td>\n    </tr>\n    <tr>\n      <th>2</th>\n      <td>2</td>\n      <td>0xb1ff25df6ecdd5f94b0ba7b3afdc8a44758cad9f</td>\n      <td>0x7f05aad364d5b2dc641058128362377a193564cf</td>\n    </tr>\n    <tr>\n      <th>3</th>\n      <td>3</td>\n      <td>0x125abbecbf3172b5a57133893f73ca4a53504e1b</td>\n      <td>0x0d31d2e6cc8784302a0fa71f50f486ccebb85dbd</td>\n    </tr>\n    <tr>\n      <th>4</th>\n      <td>4</td>\n      <td>0x25324601c880f232c0559b95ce459efbe82a9575</td>\n      <td>0x18d05ff1e903b945f87c61c521ded1994555b2f0</td>\n    </tr>\n  </tbody>\n</table>\n</div>"
     },
     "execution_count": 18,
     "metadata": {},
     "output_type": "execute_result"
    }
   ],
   "source": [
    "len(data)"
   ],
   "metadata": {
    "collapsed": false,
    "ExecuteTime": {
     "end_time": "2023-08-09T07:37:47.403674610Z",
     "start_time": "2023-08-09T07:37:47.339881832Z"
    }
   }
  },
  {
   "cell_type": "code",
   "execution_count": 30,
   "outputs": [
    {
     "data": {
      "text/plain": "   Unnamed: 0                                           x  \\\n0           0  0x7826d1fd382d877a2f202409c556fe21bc0432e9   \n1           1  0x6376f6e4fec4ec5aba9b8bd2d6d85c610eee0854   \n2           2  0xb1ff25df6ecdd5f94b0ba7b3afdc8a44758cad9f   \n3           3  0x125abbecbf3172b5a57133893f73ca4a53504e1b   \n4           4  0x25324601c880f232c0559b95ce459efbe82a9575   \n\n                                            y  \n0  0xef59258c9dd77d650b564e08591a97d86568c46d  \n1  0x08d081f9e8af4f7735387a8fc727c13e22d3d44b  \n2  0x7f05aad364d5b2dc641058128362377a193564cf  \n3  0x0d31d2e6cc8784302a0fa71f50f486ccebb85dbd  \n4  0x18d05ff1e903b945f87c61c521ded1994555b2f0  ",
      "text/html": "<div>\n<style scoped>\n    .dataframe tbody tr th:only-of-type {\n        vertical-align: middle;\n    }\n\n    .dataframe tbody tr th {\n        vertical-align: top;\n    }\n\n    .dataframe thead th {\n        text-align: right;\n    }\n</style>\n<table border=\"1\" class=\"dataframe\">\n  <thead>\n    <tr style=\"text-align: right;\">\n      <th></th>\n      <th>Unnamed: 0</th>\n      <th>x</th>\n      <th>y</th>\n    </tr>\n  </thead>\n  <tbody>\n    <tr>\n      <th>0</th>\n      <td>0</td>\n      <td>0x7826d1fd382d877a2f202409c556fe21bc0432e9</td>\n      <td>0xef59258c9dd77d650b564e08591a97d86568c46d</td>\n    </tr>\n    <tr>\n      <th>1</th>\n      <td>1</td>\n      <td>0x6376f6e4fec4ec5aba9b8bd2d6d85c610eee0854</td>\n      <td>0x08d081f9e8af4f7735387a8fc727c13e22d3d44b</td>\n    </tr>\n    <tr>\n      <th>2</th>\n      <td>2</td>\n      <td>0xb1ff25df6ecdd5f94b0ba7b3afdc8a44758cad9f</td>\n      <td>0x7f05aad364d5b2dc641058128362377a193564cf</td>\n    </tr>\n    <tr>\n      <th>3</th>\n      <td>3</td>\n      <td>0x125abbecbf3172b5a57133893f73ca4a53504e1b</td>\n      <td>0x0d31d2e6cc8784302a0fa71f50f486ccebb85dbd</td>\n    </tr>\n    <tr>\n      <th>4</th>\n      <td>4</td>\n      <td>0x25324601c880f232c0559b95ce459efbe82a9575</td>\n      <td>0x18d05ff1e903b945f87c61c521ded1994555b2f0</td>\n    </tr>\n  </tbody>\n</table>\n</div>"
     },
     "execution_count": 30,
     "metadata": {},
     "output_type": "execute_result"
    }
   ],
   "source": [
    "exist_wallets = list()\n",
    "for _i, address in enumerate(data['x']):\n",
    "    wallet = db.get_lending_wallet(address)\n",
    "    if wallet is not None:\n",
    "        exist_wallets.append(wallet)\n",
    "    if not (_i%100):\n",
    "        print(f\"Irate {_i} / {len(data)}\")\n",
    "\n",
    "print(len(exist_wallets))"
   ],
   "metadata": {
    "collapsed": false,
    "ExecuteTime": {
     "end_time": "2023-08-09T07:59:37.078217195Z",
     "start_time": "2023-08-09T07:59:37.011528812Z"
    }
   }
  },
  {
   "cell_type": "code",
   "execution_count": 32,
   "outputs": [
    {
     "data": {
      "text/plain": "list"
     },
     "execution_count": 32,
     "metadata": {},
     "output_type": "execute_result"
    }
   ],
   "source": [],
   "metadata": {
    "collapsed": false,
    "ExecuteTime": {
     "end_time": "2023-08-09T08:05:21.117200042Z",
     "start_time": "2023-08-09T08:05:21.090143841Z"
    }
   }
  },
  {
   "cell_type": "code",
   "execution_count": 20,
   "outputs": [],
   "source": [
    "with open('./exist_lending_wallets.json', 'w') as f:\n",
    "    json.dump(exist_wallets, f, indent=2)"
   ],
   "metadata": {
    "collapsed": false,
    "ExecuteTime": {
     "end_time": "2023-08-09T07:20:49.155965119Z",
     "start_time": "2023-08-09T07:20:49.130451897Z"
    }
   }
  }
 ],
 "metadata": {
  "kernelspec": {
   "name": "venv",
   "language": "python",
   "display_name": "venv"
  },
  "language_info": {
   "codemirror_mode": {
    "name": "ipython",
    "version": 2
   },
   "file_extension": ".py",
   "mimetype": "text/x-python",
   "name": "python",
   "nbconvert_exporter": "python",
   "pygments_lexer": "ipython2",
   "version": "2.7.6"
  }
 },
 "nbformat": 4,
 "nbformat_minor": 0
}
