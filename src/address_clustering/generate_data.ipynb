{
 "cells": [
  {
   "cell_type": "code",
   "execution_count": 1,
   "metadata": {
    "ExecuteTime": {
     "end_time": "2023-08-24T03:51:25.929523164Z",
     "start_time": "2023-08-24T03:51:25.261734057Z"
    }
   },
   "outputs": [],
   "source": [
    "%load_ext autoreload\n",
    "%autoreload 2\n",
    "\n",
    "import pandas as pd\n",
    "import random\n",
    "from typing import Dict, List, Tuple\n",
    "\n",
    "from databases.mongodb import MongoDB\n",
    "\n",
    "mongodb = MongoDB()"
   ]
  },
  {
   "cell_type": "markdown",
   "source": [
    "Generate wallet pairs from deposit wallets reuse"
   ],
   "metadata": {
    "collapsed": false
   }
  },
  {
   "cell_type": "code",
   "execution_count": 8,
   "metadata": {
    "ExecuteTime": {
     "end_time": "2023-08-24T03:44:24.272541027Z",
     "start_time": "2023-08-24T03:44:24.267095851Z"
    }
   },
   "outputs": [],
   "source": [
    "def generate_wallets_pairs(chain_id):\n",
    "    groups = mongodb.get_groups_by_num_wallets(chain_id=chain_id,\n",
    "                                               num_user_cond=2,\n",
    "                                               num_depo_cond=1)\n",
    "    wallets_pairs: List[Tuple] = list()\n",
    "\n",
    "    for group in groups:\n",
    "        users = group['user_wallets']\n",
    "        random.shuffle(users)\n",
    "        wallets_pairs.append((users[0], users[1]))\n",
    "        # if len(users) > 3:\n",
    "        #     wallets_pairs.append((users[2], users[3]))\n",
    "\n",
    "    return wallets_pairs\n",
    "\n",
    "\n",
    "def generate_data_set(chain_id):\n",
    "    wallet_pairs = generate_wallets_pairs(chain_id)\n",
    "    _df = pd.DataFrame.from_records([{'x': pair[0], 'y': pair[1]} for pair in wallet_pairs])\n",
    "    _df.to_csv(f'../../data/{chain_id}_wallets_pairs.csv')\n",
    "    return _df"
   ]
  },
  {
   "cell_type": "code",
   "execution_count": 9,
   "outputs": [],
   "source": [
    "generate_data_set('0x38')\n",
    "generate_data_set('0x1')"
   ],
   "metadata": {
    "collapsed": false,
    "ExecuteTime": {
     "end_time": "2023-08-24T03:44:36.445934831Z",
     "start_time": "2023-08-24T03:44:25.984227764Z"
    }
   }
  },
  {
   "cell_type": "markdown",
   "source": [
    "Generate data from user social"
   ],
   "metadata": {
    "collapsed": false
   }
  },
  {
   "cell_type": "code",
   "execution_count": 2,
   "outputs": [],
   "source": [
    "def generate_wallets_pairs_social():\n",
    "    data = mongodb.get_groups_by_twitter()\n",
    "    wallets_pairs = [datum['addresses'] for datum in data]\n",
    "    _df = pd.DataFrame.from_records({'x': pair[0], 'y': pair[1]} for pair in wallets_pairs)\n",
    "    _df.to_csv('../../data/social_wallets_pairs.csv')"
   ],
   "metadata": {
    "collapsed": false,
    "ExecuteTime": {
     "end_time": "2023-08-24T03:51:28.030490629Z",
     "start_time": "2023-08-24T03:51:27.997091752Z"
    }
   }
  },
  {
   "cell_type": "code",
   "execution_count": 3,
   "outputs": [],
   "source": [
    "generate_wallets_pairs_social()"
   ],
   "metadata": {
    "collapsed": false,
    "ExecuteTime": {
     "end_time": "2023-08-24T03:51:40.618310948Z",
     "start_time": "2023-08-24T03:51:29.525972974Z"
    }
   }
  }
 ],
 "metadata": {
  "kernelspec": {
   "display_name": "venv",
   "language": "python",
   "name": "python3"
  },
  "language_info": {
   "codemirror_mode": {
    "name": "ipython",
    "version": 3
   },
   "file_extension": ".py",
   "mimetype": "text/x-python",
   "name": "python",
   "nbconvert_exporter": "python",
   "pygments_lexer": "ipython3",
   "version": "3.10.12"
  },
  "orig_nbformat": 4
 },
 "nbformat": 4,
 "nbformat_minor": 2
}
