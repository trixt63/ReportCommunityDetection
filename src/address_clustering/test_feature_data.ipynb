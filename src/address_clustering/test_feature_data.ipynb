{
 "cells": [
  {
   "cell_type": "code",
   "execution_count": 1,
   "metadata": {},
   "outputs": [],
   "source": [
    "%load_ext autoreload\n",
    "%autoreload 2"
   ]
  },
  {
   "cell_type": "code",
   "execution_count": 1,
   "metadata": {
    "ExecuteTime": {
     "end_time": "2023-08-09T08:12:53.844882295Z",
     "start_time": "2023-08-09T08:12:53.556365792Z"
    },
    "collapsed": true
   },
   "outputs": [],
   "source": [
    "import pandas as pd\n",
    "import json\n",
    "from multithread_processing.base_job import BaseJob\n",
    "\n",
    "from databases.mongodb import MongoDB\n",
    "from databases.mongodb_entity import MongoDBEntity\n",
    "\n",
    "db = MongoDB()\n",
    "entity_db = MongoDBEntity()"
   ]
  },
  {
   "cell_type": "code",
   "execution_count": 2,
   "metadata": {},
   "outputs": [],
   "source": [
    "class CheckExistWallets(BaseJob):\n",
    "    def __init__(self, wallets_list: list, check_func, filename: str,\n",
    "                 max_workers=8, batch_size=1000):\n",
    "        self.check_func = check_func\n",
    "        self.filename = filename\n",
    "\n",
    "        self.exist_wallets = list()\n",
    "\n",
    "        super().__init__(work_iterable=wallets_list,\n",
    "                         max_workers=max_workers,\n",
    "                         batch_size=batch_size)\n",
    "\n",
    "    def _execute_batch(self, works):\n",
    "        for address in works:\n",
    "            datum = self.check_func(address)\n",
    "            # datum = db.get_lending_wallet(address)\n",
    "            if datum:\n",
    "                self.exist_wallets.append(datum)\n",
    "\n",
    "    def _end(self):\n",
    "        super()._end()\n",
    "        with open(self.filename, 'w') as f:\n",
    "            json.dump(self.exist_wallets, f, indent=2)"
   ]
  },
  {
   "attachments": {},
   "cell_type": "markdown",
   "metadata": {
    "collapsed": false
   },
   "source": [
    "0x38"
   ]
  },
  {
   "cell_type": "code",
   "execution_count": 3,
   "metadata": {
    "ExecuteTime": {
     "end_time": "2023-08-09T07:59:33.639170786Z",
     "start_time": "2023-08-09T07:59:33.595679856Z"
    },
    "collapsed": false
   },
   "outputs": [
    {
     "data": {
      "text/html": [
       "<div>\n",
       "<style scoped>\n",
       "    .dataframe tbody tr th:only-of-type {\n",
       "        vertical-align: middle;\n",
       "    }\n",
       "\n",
       "    .dataframe tbody tr th {\n",
       "        vertical-align: top;\n",
       "    }\n",
       "\n",
       "    .dataframe thead th {\n",
       "        text-align: right;\n",
       "    }\n",
       "</style>\n",
       "<table border=\"1\" class=\"dataframe\">\n",
       "  <thead>\n",
       "    <tr style=\"text-align: right;\">\n",
       "      <th></th>\n",
       "      <th>Unnamed: 0</th>\n",
       "      <th>x</th>\n",
       "      <th>y</th>\n",
       "    </tr>\n",
       "  </thead>\n",
       "  <tbody>\n",
       "    <tr>\n",
       "      <th>0</th>\n",
       "      <td>0</td>\n",
       "      <td>0x7826d1fd382d877a2f202409c556fe21bc0432e9</td>\n",
       "      <td>0xef59258c9dd77d650b564e08591a97d86568c46d</td>\n",
       "    </tr>\n",
       "    <tr>\n",
       "      <th>1</th>\n",
       "      <td>1</td>\n",
       "      <td>0x6376f6e4fec4ec5aba9b8bd2d6d85c610eee0854</td>\n",
       "      <td>0x08d081f9e8af4f7735387a8fc727c13e22d3d44b</td>\n",
       "    </tr>\n",
       "    <tr>\n",
       "      <th>2</th>\n",
       "      <td>2</td>\n",
       "      <td>0xb1ff25df6ecdd5f94b0ba7b3afdc8a44758cad9f</td>\n",
       "      <td>0x7f05aad364d5b2dc641058128362377a193564cf</td>\n",
       "    </tr>\n",
       "    <tr>\n",
       "      <th>3</th>\n",
       "      <td>3</td>\n",
       "      <td>0x125abbecbf3172b5a57133893f73ca4a53504e1b</td>\n",
       "      <td>0x0d31d2e6cc8784302a0fa71f50f486ccebb85dbd</td>\n",
       "    </tr>\n",
       "    <tr>\n",
       "      <th>4</th>\n",
       "      <td>4</td>\n",
       "      <td>0x25324601c880f232c0559b95ce459efbe82a9575</td>\n",
       "      <td>0x18d05ff1e903b945f87c61c521ded1994555b2f0</td>\n",
       "    </tr>\n",
       "  </tbody>\n",
       "</table>\n",
       "</div>"
      ],
      "text/plain": [
       "   Unnamed: 0                                           x  \\\n",
       "0           0  0x7826d1fd382d877a2f202409c556fe21bc0432e9   \n",
       "1           1  0x6376f6e4fec4ec5aba9b8bd2d6d85c610eee0854   \n",
       "2           2  0xb1ff25df6ecdd5f94b0ba7b3afdc8a44758cad9f   \n",
       "3           3  0x125abbecbf3172b5a57133893f73ca4a53504e1b   \n",
       "4           4  0x25324601c880f232c0559b95ce459efbe82a9575   \n",
       "\n",
       "                                            y  \n",
       "0  0xef59258c9dd77d650b564e08591a97d86568c46d  \n",
       "1  0x08d081f9e8af4f7735387a8fc727c13e22d3d44b  \n",
       "2  0x7f05aad364d5b2dc641058128362377a193564cf  \n",
       "3  0x0d31d2e6cc8784302a0fa71f50f486ccebb85dbd  \n",
       "4  0x18d05ff1e903b945f87c61c521ded1994555b2f0  "
      ]
     },
     "execution_count": 3,
     "metadata": {},
     "output_type": "execute_result"
    }
   ],
   "source": [
    "data = pd.read_csv('.data/0x38_wallets_pairs.csv')\n",
    "data.head()"
   ]
  },
  {
   "cell_type": "code",
   "execution_count": 6,
   "metadata": {
    "ExecuteTime": {
     "end_time": "2023-08-09T08:05:21.117200042Z",
     "start_time": "2023-08-09T08:05:21.090143841Z"
    },
    "collapsed": false
   },
   "outputs": [
    {
     "name": "stderr",
     "output_type": "stream",
     "text": [
      "[08-09-2023 17:15:23 +07] [INFO] [BatchWorkExecutor] - Started work. Items to process: 37471.\n",
      "[08-09-2023 17:16:45 +07] [INFO] [BatchWorkExecutor] - 4000 items processed. Progress is 10%.\n",
      "[08-09-2023 17:16:45 +07] [INFO] [BatchWorkExecutor] - 8000 items processed. Progress is 21%.\n",
      "[08-09-2023 17:16:46 +07] [INFO] [BatchWorkExecutor] - 12000 items processed. Progress is 32%.\n",
      "[08-09-2023 17:16:47 +07] [INFO] [BatchWorkExecutor] - 15000 items processed. Progress is 40%.\n",
      "[08-09-2023 17:17:59 +07] [INFO] [BatchWorkExecutor] - 19000 items processed. Progress is 50%.\n",
      "[08-09-2023 17:18:00 +07] [INFO] [BatchWorkExecutor] - 23000 items processed. Progress is 61%.\n",
      "[08-09-2023 17:18:00 +07] [INFO] [BatchWorkExecutor] - 27000 items processed. Progress is 72%.\n",
      "[08-09-2023 17:18:02 +07] [INFO] [BatchWorkExecutor] - 30000 items processed. Progress is 80%.\n",
      "[08-09-2023 17:19:13 +07] [INFO] [BatchWorkExecutor] - 34471 items processed. Progress is 91%.\n",
      "[08-09-2023 17:19:14 +07] [INFO] [BatchWorkExecutor] - 37471 items processed. Progress is 100%.\n",
      "[08-09-2023 17:19:14 +07] [INFO] [BatchWorkExecutor] - Finished work. Total items processed: 37471. Took 0:03:51.528927.\n"
     ]
    }
   ],
   "source": [
    "job = CheckExistWallets(max_workers=16,\n",
    "                        batch_size=1000,\n",
    "                        wallets_list=list(data['y']),\n",
    "                        check_func=db.get_lending_wallet,\n",
    "                        filename='.data/exist_lending_wallets_y.json')\n",
    "\n",
    "job.run()"
   ]
  },
  {
   "cell_type": "code",
   "execution_count": 12,
   "metadata": {
    "ExecuteTime": {
     "end_time": "2023-08-09T07:20:49.155965119Z",
     "start_time": "2023-08-09T07:20:49.130451897Z"
    },
    "collapsed": false
   },
   "outputs": [
    {
     "name": "stdout",
     "output_type": "stream",
     "text": [
      "Number of lending wallet: 689\n"
     ]
    }
   ],
   "source": [
    "with open('.data/exist_lending_wallets.json', 'r') as f:\n",
    "    exist_lending_wallets = json.load(f)\n",
    "print(\"Number of lending wallet:\", len(exist_lending_wallets))"
   ]
  },
  {
   "cell_type": "code",
   "execution_count": 13,
   "metadata": {},
   "outputs": [
    {
     "name": "stderr",
     "output_type": "stream",
     "text": [
      "[08-09-2023 17:20:54 +07] [INFO] [BatchWorkExecutor] - Started work. Items to process: 37471.\n",
      "[08-09-2023 17:22:07 +07] [INFO] [BatchWorkExecutor] - 4000 items processed. Progress is 10%.\n",
      "[08-09-2023 17:22:07 +07] [INFO] [BatchWorkExecutor] - 8000 items processed. Progress is 21%.\n",
      "[08-09-2023 17:22:08 +07] [INFO] [BatchWorkExecutor] - 12000 items processed. Progress is 32%.\n",
      "[08-09-2023 17:22:08 +07] [INFO] [BatchWorkExecutor] - 15000 items processed. Progress is 40%.\n"
     ]
    }
   ],
   "source": [
    "job = CheckExistWallets(max_workers=16,\n",
    "                        batch_size=1000,\n",
    "                        wallets_list=list(data['x']),\n",
    "                        check_func=db.get_lp_deployer_wallet,\n",
    "                        filename='.data/exist_deployer_wallets.json')\n",
    "job.run()"
   ]
  },
  {
   "cell_type": "code",
   "execution_count": null,
   "metadata": {},
   "outputs": [],
   "source": [
    "with open('.data/exist_deployer_wallets.json', 'r') as f:\n",
    "    exist_lending_wallets = json.load(f)\n",
    "print(\"Number of deployer wallet:\", len(exist_lending_wallets))"
   ]
  },
  {
   "cell_type": "code",
   "execution_count": null,
   "metadata": {},
   "outputs": [],
   "source": [
    "job = CheckExistWallets(max_workers=16,\n",
    "                        batch_size=1000,\n",
    "                        wallets_list=list(data['x']),\n",
    "                        check_func=db.get_lp_trader_wallet,\n",
    "                        filename='.data/exist_trader_wallets.json')\n",
    "\n",
    "job.run()"
   ]
  },
  {
   "cell_type": "code",
   "execution_count": null,
   "metadata": {},
   "outputs": [],
   "source": [
    "with open('.data/exist_trader_wallets.json', 'r') as f:\n",
    "    exist_lending_wallets = json.load(f)\n",
    "print(\"Number of trader wallet:\", len(exist_lending_wallets))"
   ]
  }
 ],
 "metadata": {
  "kernelspec": {
   "display_name": "venv",
   "language": "python",
   "name": "venv"
  },
  "language_info": {
   "codemirror_mode": {
    "name": "ipython",
    "version": 3
   },
   "file_extension": ".py",
   "mimetype": "text/x-python",
   "name": "python",
   "nbconvert_exporter": "python",
   "pygments_lexer": "ipython3",
   "version": "3.10.12"
  }
 },
 "nbformat": 4,
 "nbformat_minor": 0
}
