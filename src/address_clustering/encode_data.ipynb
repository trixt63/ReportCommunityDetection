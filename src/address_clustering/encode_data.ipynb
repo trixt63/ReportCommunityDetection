{
 "cells": [
  {
   "cell_type": "code",
   "execution_count": 1,
   "metadata": {
    "ExecuteTime": {
     "end_time": "2023-08-24T03:54:42.659220865Z",
     "start_time": "2023-08-24T03:54:42.658511831Z"
    }
   },
   "outputs": [],
   "source": [
    "%load_ext autoreload\n",
    "%autoreload 2"
   ]
  },
  {
   "cell_type": "code",
   "execution_count": 2,
   "metadata": {
    "collapsed": true,
    "ExecuteTime": {
     "end_time": "2023-08-24T03:54:44.046524711Z",
     "start_time": "2023-08-24T03:54:43.295631748Z"
    }
   },
   "outputs": [],
   "source": [
    "import json\n",
    "import pandas as pd\n",
    "from multithread_processing.base_job import BaseJob\n",
    "from typing import Dict, List\n",
    "\n",
    "from databases.mongodb import MongoDB\n",
    "from databases.mongodb_entity import MongoDBEntity\n",
    "\n",
    "db = MongoDB()\n",
    "entity_db = MongoDBEntity()"
   ]
  },
  {
   "cell_type": "code",
   "execution_count": 5,
   "metadata": {},
   "outputs": [],
   "source": [
    "class EncodeLendingWallets(BaseJob):\n",
    "    def __init__(self, wallets_list: list, filename: str,\n",
    "                 max_workers=16, batch_size=100):\n",
    "        self.filename = filename\n",
    "        self.onehot_mapper = {'aave': 0, 'venus': 1, 'trava': 2, 'cream': 3, 'valas': 4, 'compound': 5, 'geist': 6}  # bsc: venus, trava, cream, valas\n",
    "\n",
    "        self.wallets_encoded: Dict[str: List] = dict()\n",
    "\n",
    "        super().__init__(work_iterable=wallets_list,\n",
    "                         max_workers=max_workers,\n",
    "                         batch_size=batch_size)\n",
    "\n",
    "    def _execute_batch(self, works):\n",
    "        for wallet in works:\n",
    "            address = wallet['address']\n",
    "            pools = wallet['lendingPools']\n",
    "            onehot_vector = [0] * 7\n",
    "            for pool, onehot_position in self.onehot_mapper.items():\n",
    "                if pool in pools:\n",
    "                    onehot_vector[onehot_position] = 1\n",
    "            self.wallets_encoded[address] = onehot_vector\n",
    "\n",
    "    def _end(self):\n",
    "        super()._end()\n",
    "        # save to csv\n",
    "        df = pd.DataFrame.from_dict(self.wallets_encoded, \n",
    "                                    orient='index', \n",
    "                                    columns=['aave', 'venus', 'trava', 'cream', 'valas', 'compound', 'geist'])\n",
    "        df.to_csv(self.filename)"
   ]
  },
  {
   "cell_type": "code",
   "execution_count": 6,
   "metadata": {},
   "outputs": [
    {
     "name": "stderr",
     "output_type": "stream",
     "text": [
      "[08-10-2023 02:48:57 +07] [INFO] [BatchWorkExecutor] - Started work. Items to process: 689.\n",
      "[08-10-2023 02:48:57 +07] [INFO] [BatchWorkExecutor] - 100 items processed. Progress is 14%.\n",
      "[08-10-2023 02:48:57 +07] [INFO] [BatchWorkExecutor] - 200 items processed. Progress is 29%.\n",
      "[08-10-2023 02:48:57 +07] [INFO] [BatchWorkExecutor] - 300 items processed. Progress is 43%.\n",
      "[08-10-2023 02:48:57 +07] [INFO] [BatchWorkExecutor] - 400 items processed. Progress is 58%.\n",
      "[08-10-2023 02:48:57 +07] [INFO] [BatchWorkExecutor] - 500 items processed. Progress is 72%.\n",
      "[08-10-2023 02:48:57 +07] [INFO] [BatchWorkExecutor] - 600 items processed. Progress is 87%.\n",
      "[08-10-2023 02:48:57 +07] [INFO] [BatchWorkExecutor] - 689 items processed. Progress is 100%.\n",
      "[08-10-2023 02:48:57 +07] [INFO] [BatchWorkExecutor] - Finished work. Total items processed: 689. Took 0:00:00.023305.\n"
     ]
    }
   ],
   "source": [
    "with open('.data/exist_lending_wallets_y.json', 'r') as f:\n",
    "    lending_wallets = json.load(f)\n",
    "\n",
    "job = EncodeLendingWallets(wallets_list=lending_wallets, \n",
    "                           filename='.data/encoded_lending_wallets_y.csv')\n",
    "job.run()"
   ]
  },
  {
   "cell_type": "code",
   "execution_count": null,
   "metadata": {},
   "outputs": [],
   "source": []
  }
 ],
 "metadata": {
  "kernelspec": {
   "display_name": "venv",
   "language": "python",
   "name": "venv"
  },
  "language_info": {
   "codemirror_mode": {
    "name": "ipython",
    "version": 3
   },
   "file_extension": ".py",
   "mimetype": "text/x-python",
   "name": "python",
   "nbconvert_exporter": "python",
   "pygments_lexer": "ipython3",
   "version": "3.10.12"
  }
 },
 "nbformat": 4,
 "nbformat_minor": 0
}
