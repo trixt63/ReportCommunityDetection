{
 "cells": [
  {
   "cell_type": "code",
   "execution_count": null,
   "metadata": {},
   "outputs": [],
   "source": [
    "%load_ext autoreload\n",
    "%autoreload 2"
   ]
  },
  {
   "cell_type": "code",
   "execution_count": null,
   "metadata": {
    "collapsed": true
   },
   "outputs": [],
   "source": [
    "import json\n",
    "import pandas as pd\n",
    "from multithread_processing.base_job import BaseJob\n",
    "from typing import Dict, List\n",
    "\n",
    "from databases.mongodb import MongoDB\n",
    "from databases.mongodb_entity import MongoDBEntity\n",
    "from src.scripts.transactions_retriever import TransactionsRetriever\n",
    "\n",
    "db = MongoDB()\n",
    "entity_db = MongoDBEntity()"
   ]
  },
  {
   "cell_type": "markdown",
   "source": [
    "BSC"
   ],
   "metadata": {
    "collapsed": false
   }
  },
  {
   "cell_type": "code",
   "execution_count": null,
   "metadata": {},
   "outputs": [],
   "source": [
    "df = pd.read_csv('../../data/0x38_wallets_pairs.csv')\n",
    "x_wallets = list(df['x'])\n",
    "y_wallets = list(df['y'])\n",
    "# end_block = 28705800\n",
    "end_block = 287058\n",
    "\n",
    "transactions_retriever = TransactionsRetriever(wallets_list=x_wallets, end_block=end_block, batch_size=10000, chain_id='0x38')\n",
    "\n",
    "transactions_retriever.run()\n",
    "df_output = transactions_retriever.return_result()\n",
    "df_output.describe()\n",
    "df_output.to_csv('../../data/0x38/x_transaction_features.csv')"
   ]
  }
 ],
 "metadata": {
  "kernelspec": {
   "display_name": "venv",
   "language": "python",
   "name": "venv"
  },
  "language_info": {
   "codemirror_mode": {
    "name": "ipython",
    "version": 3
   },
   "file_extension": ".py",
   "mimetype": "text/x-python",
   "name": "python",
   "nbconvert_exporter": "python",
   "pygments_lexer": "ipython3",
   "version": "3.10.12"
  }
 },
 "nbformat": 4,
 "nbformat_minor": 0
}
