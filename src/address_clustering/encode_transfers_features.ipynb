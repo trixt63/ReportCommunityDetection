{
 "cells": [
  {
   "cell_type": "code",
   "execution_count": 1,
   "metadata": {
    "collapsed": true,
    "ExecuteTime": {
     "end_time": "2023-08-28T02:44:08.686556035Z",
     "start_time": "2023-08-28T02:44:07.401607928Z"
    }
   },
   "outputs": [],
   "source": [
    "%load_ext autoreload\n",
    "%autoreload 2\n",
    "\n",
    "import json\n",
    "import pandas as pd\n",
    "from typing import Dict, List, Tuple, Set\n",
    "from copy import deepcopy\n",
    "\n",
    "from databases.mongodb import MongoDB\n",
    "from databases.mongodb_entity import MongoDBEntity\n",
    "from databases.postgresql import PostgresDB\n",
    "from src.scripts.tokens_transfers_features import encode_transfers_data_by_coins, encode_transfers_data_by_coins_types"
   ]
  },
  {
   "cell_type": "markdown",
   "source": [
    "Get token transfers data"
   ],
   "metadata": {
    "collapsed": false
   }
  },
  {
   "cell_type": "code",
   "execution_count": 2,
   "outputs": [
    {
     "name": "stdout",
     "output_type": "stream",
     "text": [
      "Number of transfers:  729514\n"
     ]
    },
    {
     "data": {
      "text/plain": "                             contract_address  \\\n0  0x55d398326f99059ff775485246999027b3197955   \n1  0x55d398326f99059ff775485246999027b3197955   \n2  0x55d398326f99059ff775485246999027b3197955   \n3  0x55d398326f99059ff775485246999027b3197955   \n4  0x55d398326f99059ff775485246999027b3197955   \n\n                                         evt_tx_hash  evt_index  \\\n0  0xe0f92f3c31d9447d215a1b6dfd531a2cc5b656ac15c8...       1490   \n1  0xe0f92f3c31d9447d215a1b6dfd531a2cc5b656ac15c8...       1492   \n2  0xe0f92f3c31d9447d215a1b6dfd531a2cc5b656ac15c8...       1494   \n3  0xe0f92f3c31d9447d215a1b6dfd531a2cc5b656ac15c8...       1496   \n4  0xe0f92f3c31d9447d215a1b6dfd531a2cc5b656ac15c8...       1498   \n\n                evt_block_time  evt_block_number  \\\n0  2023-02-12 13:52:51.000 UTC        25604754.0   \n1  2023-02-12 13:52:51.000 UTC        25604754.0   \n2  2023-02-12 13:52:51.000 UTC        25604754.0   \n3  2023-02-12 13:52:51.000 UTC        25604754.0   \n4  2023-02-12 13:52:51.000 UTC        25604754.0   \n\n                                         from  \\\n0  0xc868578486126191e956e9b96f35f691c30a3b5c   \n1  0xe894755e2f09feef11d9217449be7b00146a503c   \n2  0xdbf134b170239da526ac902ca89daafb517baa6d   \n3  0xd33b58fe34708bf9bfd9adb279ec1edd1a9ff022   \n4  0xc868578486126191e956e9b96f35f691c30a3b5c   \n\n                                           to value  \n0  0x23d677e9d4e2fb93b7fdcfba230347c1f4bf0580     0  \n1  0x7430ffc4de6c4372061bf9fd065bd854c3c4038b     0  \n2  0x4925bf3d39c46f1da05706e86580cbc464ff72c2     0  \n3  0x1557575c8a0073485864575618739431b0b6b1f5     0  \n4  0x297c006e42ca8745481520a2ef9c738dd9e506e6     0  ",
      "text/html": "<div>\n<style scoped>\n    .dataframe tbody tr th:only-of-type {\n        vertical-align: middle;\n    }\n\n    .dataframe tbody tr th {\n        vertical-align: top;\n    }\n\n    .dataframe thead th {\n        text-align: right;\n    }\n</style>\n<table border=\"1\" class=\"dataframe\">\n  <thead>\n    <tr style=\"text-align: right;\">\n      <th></th>\n      <th>contract_address</th>\n      <th>evt_tx_hash</th>\n      <th>evt_index</th>\n      <th>evt_block_time</th>\n      <th>evt_block_number</th>\n      <th>from</th>\n      <th>to</th>\n      <th>value</th>\n    </tr>\n  </thead>\n  <tbody>\n    <tr>\n      <th>0</th>\n      <td>0x55d398326f99059ff775485246999027b3197955</td>\n      <td>0xe0f92f3c31d9447d215a1b6dfd531a2cc5b656ac15c8...</td>\n      <td>1490</td>\n      <td>2023-02-12 13:52:51.000 UTC</td>\n      <td>25604754.0</td>\n      <td>0xc868578486126191e956e9b96f35f691c30a3b5c</td>\n      <td>0x23d677e9d4e2fb93b7fdcfba230347c1f4bf0580</td>\n      <td>0</td>\n    </tr>\n    <tr>\n      <th>1</th>\n      <td>0x55d398326f99059ff775485246999027b3197955</td>\n      <td>0xe0f92f3c31d9447d215a1b6dfd531a2cc5b656ac15c8...</td>\n      <td>1492</td>\n      <td>2023-02-12 13:52:51.000 UTC</td>\n      <td>25604754.0</td>\n      <td>0xe894755e2f09feef11d9217449be7b00146a503c</td>\n      <td>0x7430ffc4de6c4372061bf9fd065bd854c3c4038b</td>\n      <td>0</td>\n    </tr>\n    <tr>\n      <th>2</th>\n      <td>0x55d398326f99059ff775485246999027b3197955</td>\n      <td>0xe0f92f3c31d9447d215a1b6dfd531a2cc5b656ac15c8...</td>\n      <td>1494</td>\n      <td>2023-02-12 13:52:51.000 UTC</td>\n      <td>25604754.0</td>\n      <td>0xdbf134b170239da526ac902ca89daafb517baa6d</td>\n      <td>0x4925bf3d39c46f1da05706e86580cbc464ff72c2</td>\n      <td>0</td>\n    </tr>\n    <tr>\n      <th>3</th>\n      <td>0x55d398326f99059ff775485246999027b3197955</td>\n      <td>0xe0f92f3c31d9447d215a1b6dfd531a2cc5b656ac15c8...</td>\n      <td>1496</td>\n      <td>2023-02-12 13:52:51.000 UTC</td>\n      <td>25604754.0</td>\n      <td>0xd33b58fe34708bf9bfd9adb279ec1edd1a9ff022</td>\n      <td>0x1557575c8a0073485864575618739431b0b6b1f5</td>\n      <td>0</td>\n    </tr>\n    <tr>\n      <th>4</th>\n      <td>0x55d398326f99059ff775485246999027b3197955</td>\n      <td>0xe0f92f3c31d9447d215a1b6dfd531a2cc5b656ac15c8...</td>\n      <td>1498</td>\n      <td>2023-02-12 13:52:51.000 UTC</td>\n      <td>25604754.0</td>\n      <td>0xc868578486126191e956e9b96f35f691c30a3b5c</td>\n      <td>0x297c006e42ca8745481520a2ef9c738dd9e506e6</td>\n      <td>0</td>\n    </tr>\n  </tbody>\n</table>\n</div>"
     },
     "execution_count": 2,
     "metadata": {},
     "output_type": "execute_result"
    }
   ],
   "source": [
    "chain_id = '0x38'\n",
    "mongodb = MongoDB(chain_id=chain_id)\n",
    "mongo_klg = MongoDBEntity()\n",
    "postgres = PostgresDB()\n",
    "\n",
    "wallets_pairs = pd.read_csv(f'../../data/{chain_id}_wallets_pairs.csv')\n",
    "\n",
    "token_transfers_df = pd.read_csv(f'../../data/{chain_id}_tokens_transfers.csv')\n",
    "print(\"Number of transfers: \", len(token_transfers_df))\n",
    "token_transfers_df.head()"
   ],
   "metadata": {
    "collapsed": false,
    "ExecuteTime": {
     "end_time": "2023-08-28T02:45:14.643360984Z",
     "start_time": "2023-08-28T02:45:10.768198693Z"
    }
   }
  },
  {
   "cell_type": "markdown",
   "source": [
    "Get stable coins & meme coins data"
   ],
   "metadata": {
    "collapsed": false
   }
  },
  {
   "cell_type": "code",
   "execution_count": 3,
   "outputs": [
    {
     "name": "stdout",
     "output_type": "stream",
     "text": [
      "Number of Stable coins traded:  29\n",
      "Number of Meme coins traded:  104\n"
     ]
    }
   ],
   "source": [
    "# Stable coins\n",
    "# symbols:\n",
    "_stable_coins_cursor = mongo_klg.get_stable_coins(chain_id=chain_id,\n",
    "                                                  projection={'idCoingecko': 1, 'address': 1, 'symbol': 1})\n",
    "stable_coins_symbols = {doc['address']: doc['symbol'] for doc in _stable_coins_cursor}\n",
    "# decimals:\n",
    "_stablecoins_decimals = postgres.get_decimals(chain_id=chain_id, token_addresses=list(stable_coins_symbols.keys()))\n",
    "stable_coins_decimals = {row[0]: row[1] for row in _stablecoins_decimals}\n",
    "\n",
    "# Meme coins\n",
    "# symbols\n",
    "_meme_coins_cursor = mongo_klg.get_meme_coins(chain_id=chain_id,\n",
    "                                              projection={'idCoingecko': 1, 'address': 1, 'symbol': 1})\n",
    "meme_coins_symbols = {doc['address']: doc['symbol'] for doc in _meme_coins_cursor}\n",
    "# decimals\n",
    "_memecoins_decimals = postgres.get_decimals(chain_id=chain_id, token_addresses=list(meme_coins_symbols.keys()))\n",
    "meme_coins_decimals = {row[0]: row[1] for row in _memecoins_decimals}\n",
    "\n",
    "print(\"Number of Stable coins traded: \", len(stable_coins_symbols))\n",
    "print(\"Number of Meme coins traded: \", len(meme_coins_symbols))"
   ],
   "metadata": {
    "collapsed": false,
    "ExecuteTime": {
     "end_time": "2023-08-28T02:45:26.703548546Z",
     "start_time": "2023-08-28T02:45:14.646957249Z"
    }
   }
  },
  {
   "cell_type": "markdown",
   "source": [
    "## For X wallets"
   ],
   "metadata": {
    "collapsed": false
   }
  },
  {
   "cell_type": "code",
   "execution_count": 4,
   "outputs": [
    {
     "name": "stdout",
     "output_type": "stream",
     "text": [
      "Number of wallets:  23779\n"
     ]
    }
   ],
   "source": [
    "# wallets\n",
    "wallet_addresses = set(wallets_pairs['x'])\n",
    "print(\"Number of wallets: \", len(wallet_addresses))"
   ],
   "metadata": {
    "collapsed": false,
    "ExecuteTime": {
     "end_time": "2023-08-28T02:45:26.799190542Z",
     "start_time": "2023-08-28T02:45:26.711952163Z"
    }
   }
  },
  {
   "cell_type": "markdown",
   "source": [
    "Next, create data frame for 3 features:\n",
    "- Number of Transfers | Stablecoins transfers | Memecoins transfers\n",
    "- Stablecoins list transfers\n",
    "- Memecoins list transfers"
   ],
   "metadata": {
    "collapsed": false
   }
  },
  {
   "cell_type": "code",
   "execution_count": 5,
   "outputs": [
    {
     "name": "stdout",
     "output_type": "stream",
     "text": [
      "Progress: 0 / 729514\n",
      "Progress: 10000 / 729514\n",
      "Progress: 20000 / 729514\n",
      "Progress: 30000 / 729514\n",
      "Progress: 40000 / 729514\n",
      "Progress: 50000 / 729514\n",
      "Progress: 60000 / 729514\n",
      "Progress: 70000 / 729514\n",
      "Progress: 80000 / 729514\n",
      "Progress: 90000 / 729514\n",
      "Progress: 100000 / 729514\n",
      "Progress: 110000 / 729514\n",
      "Progress: 120000 / 729514\n",
      "Progress: 130000 / 729514\n",
      "Progress: 140000 / 729514\n",
      "Progress: 150000 / 729514\n",
      "Progress: 160000 / 729514\n",
      "Progress: 170000 / 729514\n",
      "Progress: 180000 / 729514\n",
      "Progress: 190000 / 729514\n",
      "Progress: 200000 / 729514\n",
      "Progress: 210000 / 729514\n",
      "Progress: 220000 / 729514\n",
      "Progress: 230000 / 729514\n",
      "Progress: 240000 / 729514\n",
      "Progress: 250000 / 729514\n",
      "Progress: 260000 / 729514\n",
      "Progress: 270000 / 729514\n",
      "Progress: 280000 / 729514\n",
      "Progress: 290000 / 729514\n",
      "Progress: 300000 / 729514\n",
      "Progress: 310000 / 729514\n",
      "Progress: 320000 / 729514\n",
      "Progress: 330000 / 729514\n",
      "Progress: 340000 / 729514\n",
      "Progress: 350000 / 729514\n",
      "Progress: 360000 / 729514\n",
      "Progress: 370000 / 729514\n",
      "Progress: 380000 / 729514\n",
      "Progress: 390000 / 729514\n",
      "Progress: 400000 / 729514\n",
      "Progress: 410000 / 729514\n",
      "Progress: 420000 / 729514\n",
      "Progress: 430000 / 729514\n",
      "Progress: 440000 / 729514\n",
      "Progress: 450000 / 729514\n",
      "Progress: 460000 / 729514\n",
      "Progress: 470000 / 729514\n",
      "Progress: 480000 / 729514\n",
      "Progress: 490000 / 729514\n",
      "Progress: 500000 / 729514\n",
      "Progress: 510000 / 729514\n",
      "Progress: 520000 / 729514\n",
      "Progress: 530000 / 729514\n",
      "Progress: 540000 / 729514\n",
      "Progress: 550000 / 729514\n",
      "Progress: 560000 / 729514\n",
      "Progress: 570000 / 729514\n",
      "Progress: 580000 / 729514\n",
      "Progress: 590000 / 729514\n",
      "Progress: 600000 / 729514\n",
      "Progress: 610000 / 729514\n",
      "Progress: 620000 / 729514\n",
      "Progress: 630000 / 729514\n",
      "Progress: 640000 / 729514\n",
      "Progress: 650000 / 729514\n",
      "Progress: 660000 / 729514\n",
      "Progress: 670000 / 729514\n",
      "Progress: 680000 / 729514\n",
      "Progress: 690000 / 729514\n",
      "Progress: 700000 / 729514\n",
      "Progress: 710000 / 729514\n",
      "Progress: 720000 / 729514\n"
     ]
    }
   ],
   "source": [
    "stablecoins_sent, n_stablecoins_sent, stablecoins_received, n_stablecoins_received = encode_transfers_data_by_coins(tokens_transfers=token_transfers_df,\n",
    "                                                                                                                    wallet_addresses=wallet_addresses,\n",
    "                                                                                                                    coins_symbols=stable_coins_symbols,\n",
    "                                                                                                                    coins_decimals=stable_coins_decimals)"
   ],
   "metadata": {
    "collapsed": false,
    "ExecuteTime": {
     "end_time": "2023-08-28T02:45:40.487726301Z",
     "start_time": "2023-08-28T02:45:26.758454546Z"
    }
   }
  },
  {
   "cell_type": "code",
   "execution_count": 6,
   "outputs": [
    {
     "name": "stdout",
     "output_type": "stream",
     "text": [
      "Progress: 0 / 729514\n",
      "Progress: 10000 / 729514\n",
      "Progress: 20000 / 729514\n",
      "Progress: 30000 / 729514\n",
      "Progress: 40000 / 729514\n",
      "Progress: 50000 / 729514\n",
      "Progress: 60000 / 729514\n",
      "Progress: 70000 / 729514\n",
      "Progress: 80000 / 729514\n",
      "Progress: 90000 / 729514\n",
      "Progress: 100000 / 729514\n",
      "Progress: 110000 / 729514\n",
      "Progress: 120000 / 729514\n",
      "Progress: 130000 / 729514\n",
      "Progress: 140000 / 729514\n",
      "Progress: 150000 / 729514\n",
      "Progress: 160000 / 729514\n",
      "Progress: 170000 / 729514\n",
      "Progress: 180000 / 729514\n",
      "Progress: 190000 / 729514\n",
      "Progress: 200000 / 729514\n",
      "Progress: 210000 / 729514\n",
      "Progress: 220000 / 729514\n",
      "Progress: 230000 / 729514\n",
      "Progress: 240000 / 729514\n",
      "Progress: 250000 / 729514\n",
      "Progress: 260000 / 729514\n",
      "Progress: 270000 / 729514\n",
      "Progress: 280000 / 729514\n",
      "Progress: 290000 / 729514\n",
      "Progress: 300000 / 729514\n",
      "Progress: 310000 / 729514\n",
      "Progress: 320000 / 729514\n",
      "Progress: 330000 / 729514\n",
      "Progress: 340000 / 729514\n",
      "Progress: 350000 / 729514\n",
      "Progress: 360000 / 729514\n",
      "Progress: 370000 / 729514\n",
      "Progress: 380000 / 729514\n",
      "Progress: 390000 / 729514\n",
      "Progress: 400000 / 729514\n",
      "Progress: 410000 / 729514\n",
      "Progress: 420000 / 729514\n",
      "Progress: 430000 / 729514\n",
      "Progress: 440000 / 729514\n",
      "Progress: 450000 / 729514\n",
      "Progress: 460000 / 729514\n",
      "Progress: 470000 / 729514\n",
      "Progress: 480000 / 729514\n",
      "Progress: 490000 / 729514\n",
      "Progress: 500000 / 729514\n",
      "Progress: 510000 / 729514\n",
      "Progress: 520000 / 729514\n",
      "Progress: 530000 / 729514\n",
      "Progress: 540000 / 729514\n",
      "Progress: 550000 / 729514\n",
      "Progress: 560000 / 729514\n",
      "Progress: 570000 / 729514\n",
      "Progress: 580000 / 729514\n",
      "Progress: 590000 / 729514\n",
      "Progress: 600000 / 729514\n",
      "Progress: 610000 / 729514\n",
      "Progress: 620000 / 729514\n",
      "Progress: 630000 / 729514\n",
      "Progress: 640000 / 729514\n",
      "Progress: 650000 / 729514\n",
      "Progress: 660000 / 729514\n",
      "Progress: 670000 / 729514\n",
      "Progress: 680000 / 729514\n",
      "Progress: 690000 / 729514\n",
      "Progress: 700000 / 729514\n",
      "Progress: 710000 / 729514\n",
      "Progress: 720000 / 729514\n"
     ]
    }
   ],
   "source": [
    "memecoins_sent, n_memecoins_sent, memecoins_received, n_memecoins_received = encode_transfers_data_by_coins(tokens_transfers=token_transfers_df,\n",
    "                                                                                                            wallet_addresses=wallet_addresses,\n",
    "                                                                                                            coins_symbols=meme_coins_symbols,\n",
    "                                                                                                            coins_decimals=meme_coins_decimals)"
   ],
   "metadata": {
    "collapsed": false,
    "ExecuteTime": {
     "end_time": "2023-08-28T02:45:51.201343422Z",
     "start_time": "2023-08-28T02:45:40.473730064Z"
    }
   }
  },
  {
   "cell_type": "code",
   "execution_count": 7,
   "outputs": [
    {
     "name": "stdout",
     "output_type": "stream",
     "text": [
      "Progress: 0 / 729514\n",
      "Progress: 10000 / 729514\n",
      "Progress: 20000 / 729514\n",
      "Progress: 30000 / 729514\n",
      "Progress: 40000 / 729514\n",
      "Progress: 50000 / 729514\n",
      "Progress: 60000 / 729514\n",
      "Progress: 70000 / 729514\n",
      "Progress: 80000 / 729514\n",
      "Progress: 90000 / 729514\n",
      "Progress: 100000 / 729514\n",
      "Progress: 110000 / 729514\n",
      "Progress: 120000 / 729514\n",
      "Progress: 130000 / 729514\n",
      "Progress: 140000 / 729514\n",
      "Progress: 150000 / 729514\n",
      "Progress: 160000 / 729514\n",
      "Progress: 170000 / 729514\n",
      "Progress: 180000 / 729514\n",
      "Progress: 190000 / 729514\n",
      "Progress: 200000 / 729514\n",
      "Progress: 210000 / 729514\n",
      "Progress: 220000 / 729514\n",
      "Progress: 230000 / 729514\n",
      "Progress: 240000 / 729514\n",
      "Progress: 250000 / 729514\n",
      "Progress: 260000 / 729514\n",
      "Progress: 270000 / 729514\n",
      "Progress: 280000 / 729514\n",
      "Progress: 290000 / 729514\n",
      "Progress: 300000 / 729514\n",
      "Progress: 310000 / 729514\n",
      "Progress: 320000 / 729514\n",
      "Progress: 330000 / 729514\n",
      "Progress: 340000 / 729514\n",
      "Progress: 350000 / 729514\n",
      "Progress: 360000 / 729514\n",
      "Progress: 370000 / 729514\n",
      "Progress: 380000 / 729514\n",
      "Progress: 390000 / 729514\n",
      "Progress: 400000 / 729514\n",
      "Progress: 410000 / 729514\n",
      "Progress: 420000 / 729514\n",
      "Progress: 430000 / 729514\n",
      "Progress: 440000 / 729514\n",
      "Progress: 450000 / 729514\n",
      "Progress: 460000 / 729514\n",
      "Progress: 470000 / 729514\n",
      "Progress: 480000 / 729514\n",
      "Progress: 490000 / 729514\n",
      "Progress: 500000 / 729514\n",
      "Progress: 510000 / 729514\n",
      "Progress: 520000 / 729514\n",
      "Progress: 530000 / 729514\n",
      "Progress: 540000 / 729514\n",
      "Progress: 550000 / 729514\n",
      "Progress: 560000 / 729514\n",
      "Progress: 570000 / 729514\n",
      "Progress: 580000 / 729514\n",
      "Progress: 590000 / 729514\n",
      "Progress: 600000 / 729514\n",
      "Progress: 610000 / 729514\n",
      "Progress: 620000 / 729514\n",
      "Progress: 630000 / 729514\n",
      "Progress: 640000 / 729514\n",
      "Progress: 650000 / 729514\n",
      "Progress: 660000 / 729514\n",
      "Progress: 670000 / 729514\n",
      "Progress: 680000 / 729514\n",
      "Progress: 690000 / 729514\n",
      "Progress: 700000 / 729514\n",
      "Progress: 710000 / 729514\n",
      "Progress: 720000 / 729514\n"
     ]
    }
   ],
   "source": [
    "transfers_sent, transfers_received = encode_transfers_data_by_coins_types(tokens_transfers=token_transfers_df,\n",
    "                                                                          wallet_addresses=wallet_addresses,\n",
    "                                                                          stable_coin_addresses=set(stable_coins_symbols.keys()),\n",
    "                                                                          meme_coin_addresses=set(meme_coins_symbols.keys()))"
   ],
   "metadata": {
    "collapsed": false,
    "ExecuteTime": {
     "end_time": "2023-08-28T02:46:19.384821373Z",
     "start_time": "2023-08-28T02:46:04.035665814Z"
    }
   }
  },
  {
   "cell_type": "code",
   "execution_count": 8,
   "outputs": [],
   "source": [
    "stablecoins_sent.to_csv('../../data/transfers_stablecoins_sent_0x38_x.csv')\n",
    "n_stablecoins_sent.to_csv('../../data/transfers_number_stablecoins_sent_0x38_x.csv')\n",
    "stablecoins_received.to_csv('../../data/transfers_stablecoins_received_0x38_x.csv')\n",
    "n_stablecoins_received.to_csv('../../data/transfers_number_stablecoins_received_0x38_x.csv')\n",
    "\n",
    "memecoins_sent.to_csv('../../data/transfers_memecoins_sent_0x38_x.csv')\n",
    "n_memecoins_sent.to_csv('../../data/transfers_number_memecoins_sent_0x38_x.csv')\n",
    "memecoins_received.to_csv('../../data/transfers_memecoins_received_0x38_x.csv')\n",
    "n_memecoins_received.to_csv('../../data/transfers_number_memecoins_received_0x38_x.csv')\n",
    "\n",
    "transfers_sent.to_csv('../../data/transfers_number_sent_0x38_x.csv')\n",
    "transfers_received.to_csv('../../data/transfers_number_received_0x38_x.csv')\n"
   ],
   "metadata": {
    "collapsed": false,
    "ExecuteTime": {
     "end_time": "2023-08-28T02:57:10.626953979Z",
     "start_time": "2023-08-28T02:57:06.611250202Z"
    }
   }
  },
  {
   "cell_type": "markdown",
   "source": [
    "## For Y wallets"
   ],
   "metadata": {
    "collapsed": false
   }
  },
  {
   "cell_type": "code",
   "execution_count": 9,
   "outputs": [
    {
     "name": "stdout",
     "output_type": "stream",
     "text": [
      "Number of wallets:  23779\n"
     ]
    }
   ],
   "source": [
    "wallet_addresses = set(wallets_pairs['y'])\n",
    "print(\"Number of wallets: \", len(wallet_addresses))"
   ],
   "metadata": {
    "collapsed": false,
    "ExecuteTime": {
     "end_time": "2023-08-28T03:04:40.467061841Z",
     "start_time": "2023-08-28T03:04:40.425637203Z"
    }
   }
  },
  {
   "cell_type": "code",
   "execution_count": 10,
   "outputs": [
    {
     "name": "stdout",
     "output_type": "stream",
     "text": [
      "Progress: 0 / 729514\n",
      "Progress: 10000 / 729514\n",
      "Progress: 20000 / 729514\n",
      "Progress: 30000 / 729514\n",
      "Progress: 40000 / 729514\n",
      "Progress: 50000 / 729514\n",
      "Progress: 60000 / 729514\n",
      "Progress: 70000 / 729514\n",
      "Progress: 80000 / 729514\n",
      "Progress: 90000 / 729514\n",
      "Progress: 100000 / 729514\n",
      "Progress: 110000 / 729514\n",
      "Progress: 120000 / 729514\n",
      "Progress: 130000 / 729514\n",
      "Progress: 140000 / 729514\n",
      "Progress: 150000 / 729514\n",
      "Progress: 160000 / 729514\n",
      "Progress: 170000 / 729514\n",
      "Progress: 180000 / 729514\n",
      "Progress: 190000 / 729514\n",
      "Progress: 200000 / 729514\n",
      "Progress: 210000 / 729514\n",
      "Progress: 220000 / 729514\n",
      "Progress: 230000 / 729514\n",
      "Progress: 240000 / 729514\n",
      "Progress: 250000 / 729514\n",
      "Progress: 260000 / 729514\n",
      "Progress: 270000 / 729514\n",
      "Progress: 280000 / 729514\n",
      "Progress: 290000 / 729514\n",
      "Progress: 300000 / 729514\n",
      "Progress: 310000 / 729514\n",
      "Progress: 320000 / 729514\n",
      "Progress: 330000 / 729514\n",
      "Progress: 340000 / 729514\n",
      "Progress: 350000 / 729514\n",
      "Progress: 360000 / 729514\n",
      "Progress: 370000 / 729514\n",
      "Progress: 380000 / 729514\n",
      "Progress: 390000 / 729514\n",
      "Progress: 400000 / 729514\n",
      "Progress: 410000 / 729514\n",
      "Progress: 420000 / 729514\n",
      "Progress: 430000 / 729514\n",
      "Progress: 440000 / 729514\n",
      "Progress: 450000 / 729514\n",
      "Progress: 460000 / 729514\n",
      "Progress: 470000 / 729514\n",
      "Progress: 480000 / 729514\n",
      "Progress: 490000 / 729514\n",
      "Progress: 500000 / 729514\n",
      "Progress: 510000 / 729514\n",
      "Progress: 520000 / 729514\n",
      "Progress: 530000 / 729514\n",
      "Progress: 540000 / 729514\n",
      "Progress: 550000 / 729514\n",
      "Progress: 560000 / 729514\n",
      "Progress: 570000 / 729514\n",
      "Progress: 580000 / 729514\n",
      "Progress: 590000 / 729514\n",
      "Progress: 600000 / 729514\n",
      "Progress: 610000 / 729514\n",
      "Progress: 620000 / 729514\n",
      "Progress: 630000 / 729514\n",
      "Progress: 640000 / 729514\n",
      "Progress: 650000 / 729514\n",
      "Progress: 660000 / 729514\n",
      "Progress: 670000 / 729514\n",
      "Progress: 680000 / 729514\n",
      "Progress: 690000 / 729514\n",
      "Progress: 700000 / 729514\n",
      "Progress: 710000 / 729514\n",
      "Progress: 720000 / 729514\n",
      "Progress: 0 / 729514\n",
      "Progress: 10000 / 729514\n",
      "Progress: 20000 / 729514\n",
      "Progress: 30000 / 729514\n",
      "Progress: 40000 / 729514\n",
      "Progress: 50000 / 729514\n",
      "Progress: 60000 / 729514\n",
      "Progress: 70000 / 729514\n",
      "Progress: 80000 / 729514\n",
      "Progress: 90000 / 729514\n",
      "Progress: 100000 / 729514\n",
      "Progress: 110000 / 729514\n",
      "Progress: 120000 / 729514\n",
      "Progress: 130000 / 729514\n",
      "Progress: 140000 / 729514\n",
      "Progress: 150000 / 729514\n",
      "Progress: 160000 / 729514\n",
      "Progress: 170000 / 729514\n",
      "Progress: 180000 / 729514\n",
      "Progress: 190000 / 729514\n",
      "Progress: 200000 / 729514\n",
      "Progress: 210000 / 729514\n",
      "Progress: 220000 / 729514\n",
      "Progress: 230000 / 729514\n",
      "Progress: 240000 / 729514\n",
      "Progress: 250000 / 729514\n",
      "Progress: 260000 / 729514\n",
      "Progress: 270000 / 729514\n",
      "Progress: 280000 / 729514\n",
      "Progress: 290000 / 729514\n",
      "Progress: 300000 / 729514\n",
      "Progress: 310000 / 729514\n",
      "Progress: 320000 / 729514\n",
      "Progress: 330000 / 729514\n",
      "Progress: 340000 / 729514\n",
      "Progress: 350000 / 729514\n",
      "Progress: 360000 / 729514\n",
      "Progress: 370000 / 729514\n",
      "Progress: 380000 / 729514\n",
      "Progress: 390000 / 729514\n",
      "Progress: 400000 / 729514\n",
      "Progress: 410000 / 729514\n",
      "Progress: 420000 / 729514\n",
      "Progress: 430000 / 729514\n",
      "Progress: 440000 / 729514\n",
      "Progress: 450000 / 729514\n",
      "Progress: 460000 / 729514\n",
      "Progress: 470000 / 729514\n",
      "Progress: 480000 / 729514\n",
      "Progress: 490000 / 729514\n",
      "Progress: 500000 / 729514\n",
      "Progress: 510000 / 729514\n",
      "Progress: 520000 / 729514\n",
      "Progress: 530000 / 729514\n",
      "Progress: 540000 / 729514\n",
      "Progress: 550000 / 729514\n",
      "Progress: 560000 / 729514\n",
      "Progress: 570000 / 729514\n",
      "Progress: 580000 / 729514\n",
      "Progress: 590000 / 729514\n",
      "Progress: 600000 / 729514\n",
      "Progress: 610000 / 729514\n",
      "Progress: 620000 / 729514\n",
      "Progress: 630000 / 729514\n",
      "Progress: 640000 / 729514\n",
      "Progress: 650000 / 729514\n",
      "Progress: 660000 / 729514\n",
      "Progress: 670000 / 729514\n",
      "Progress: 680000 / 729514\n",
      "Progress: 690000 / 729514\n",
      "Progress: 700000 / 729514\n",
      "Progress: 710000 / 729514\n",
      "Progress: 720000 / 729514\n",
      "Progress: 0 / 729514\n",
      "Progress: 10000 / 729514\n",
      "Progress: 20000 / 729514\n",
      "Progress: 30000 / 729514\n",
      "Progress: 40000 / 729514\n",
      "Progress: 50000 / 729514\n",
      "Progress: 60000 / 729514\n",
      "Progress: 70000 / 729514\n",
      "Progress: 80000 / 729514\n",
      "Progress: 90000 / 729514\n",
      "Progress: 100000 / 729514\n",
      "Progress: 110000 / 729514\n",
      "Progress: 120000 / 729514\n",
      "Progress: 130000 / 729514\n",
      "Progress: 140000 / 729514\n",
      "Progress: 150000 / 729514\n",
      "Progress: 160000 / 729514\n",
      "Progress: 170000 / 729514\n",
      "Progress: 180000 / 729514\n",
      "Progress: 190000 / 729514\n",
      "Progress: 200000 / 729514\n",
      "Progress: 210000 / 729514\n",
      "Progress: 220000 / 729514\n",
      "Progress: 230000 / 729514\n",
      "Progress: 240000 / 729514\n",
      "Progress: 250000 / 729514\n",
      "Progress: 260000 / 729514\n",
      "Progress: 270000 / 729514\n",
      "Progress: 280000 / 729514\n",
      "Progress: 290000 / 729514\n",
      "Progress: 300000 / 729514\n",
      "Progress: 310000 / 729514\n",
      "Progress: 320000 / 729514\n",
      "Progress: 330000 / 729514\n",
      "Progress: 340000 / 729514\n",
      "Progress: 350000 / 729514\n",
      "Progress: 360000 / 729514\n",
      "Progress: 370000 / 729514\n",
      "Progress: 380000 / 729514\n",
      "Progress: 390000 / 729514\n",
      "Progress: 400000 / 729514\n",
      "Progress: 410000 / 729514\n",
      "Progress: 420000 / 729514\n",
      "Progress: 430000 / 729514\n",
      "Progress: 440000 / 729514\n",
      "Progress: 450000 / 729514\n",
      "Progress: 460000 / 729514\n",
      "Progress: 470000 / 729514\n",
      "Progress: 480000 / 729514\n",
      "Progress: 490000 / 729514\n",
      "Progress: 500000 / 729514\n",
      "Progress: 510000 / 729514\n",
      "Progress: 520000 / 729514\n",
      "Progress: 530000 / 729514\n",
      "Progress: 540000 / 729514\n",
      "Progress: 550000 / 729514\n",
      "Progress: 560000 / 729514\n",
      "Progress: 570000 / 729514\n",
      "Progress: 580000 / 729514\n",
      "Progress: 590000 / 729514\n",
      "Progress: 600000 / 729514\n",
      "Progress: 610000 / 729514\n",
      "Progress: 620000 / 729514\n",
      "Progress: 630000 / 729514\n",
      "Progress: 640000 / 729514\n",
      "Progress: 650000 / 729514\n",
      "Progress: 660000 / 729514\n",
      "Progress: 670000 / 729514\n",
      "Progress: 680000 / 729514\n",
      "Progress: 690000 / 729514\n",
      "Progress: 700000 / 729514\n",
      "Progress: 710000 / 729514\n",
      "Progress: 720000 / 729514\n"
     ]
    }
   ],
   "source": [
    "# stable coins transfers\n",
    "stablecoins_sent, n_stablecoins_sent, stablecoins_received, n_stablecoins_received = encode_transfers_data_by_coins(tokens_transfers=token_transfers_df,\n",
    "                                                                                                                    wallet_addresses=wallet_addresses,\n",
    "                                                                                                                    coins_symbols=stable_coins_symbols,\n",
    "                                                                                                                    coins_decimals=stable_coins_decimals)\n",
    "\n",
    "# meme coins transfers\n",
    "memecoins_sent, n_memecoins_sent, memecoins_received, n_memecoins_received = encode_transfers_data_by_coins(tokens_transfers=token_transfers_df,\n",
    "                                                                                                            wallet_addresses=wallet_addresses,\n",
    "                                                                                                            coins_symbols=meme_coins_symbols,\n",
    "                                                                                                            coins_decimals=meme_coins_decimals)\n",
    "\n",
    "# other data transfers\n",
    "transfers_sent, transfers_received = encode_transfers_data_by_coins_types(tokens_transfers=token_transfers_df,\n",
    "                                                                          wallet_addresses=wallet_addresses,\n",
    "                                                                          stable_coin_addresses=set(stable_coins_symbols.keys()),\n",
    "                                                                          meme_coin_addresses=set(meme_coins_symbols.keys()))"
   ],
   "metadata": {
    "collapsed": false,
    "ExecuteTime": {
     "end_time": "2023-08-28T03:08:42.369471973Z",
     "start_time": "2023-08-28T03:08:02.625872871Z"
    }
   }
  },
  {
   "cell_type": "code",
   "execution_count": 11,
   "outputs": [],
   "source": [
    "stablecoins_sent.to_csv('../../data/transfers_stablecoins_sent_0x38_y.csv')\n",
    "n_stablecoins_sent.to_csv('../../data/transfers_number_stablecoins_sent_0x38_y.csv')\n",
    "stablecoins_received.to_csv('../../data/transfers_stablecoins_received_0x38_y.csv')\n",
    "n_stablecoins_received.to_csv('../../data/transfers_number_stablecoins_received_0x38_y.csv')\n",
    "\n",
    "memecoins_sent.to_csv('../../data/transfers_memecoins_sent_0x38_y.csv')\n",
    "n_memecoins_sent.to_csv('../../data/transfers_number_memecoins_sent_0x38_y.csv')\n",
    "memecoins_received.to_csv('../../data/transfers_memecoins_received_0x38_y.csv')\n",
    "n_memecoins_received.to_csv('../../data/transfers_number_memecoins_received_0x38_y.csv')\n",
    "\n",
    "transfers_sent.to_csv('../../data/transfers_number_sent_0x38_y.csv')\n",
    "transfers_received.to_csv('../../data/transfers_number_received_0x38_y.csv')"
   ],
   "metadata": {
    "collapsed": false,
    "ExecuteTime": {
     "end_time": "2023-08-28T03:10:16.608115256Z",
     "start_time": "2023-08-28T03:10:12.608710776Z"
    }
   }
  }
 ],
 "metadata": {
  "kernelspec": {
   "display_name": "Python 3",
   "language": "python",
   "name": "python3"
  },
  "language_info": {
   "codemirror_mode": {
    "name": "ipython",
    "version": 2
   },
   "file_extension": ".py",
   "mimetype": "text/x-python",
   "name": "python",
   "nbconvert_exporter": "python",
   "pygments_lexer": "ipython2",
   "version": "2.7.6"
  }
 },
 "nbformat": 4,
 "nbformat_minor": 0
}
