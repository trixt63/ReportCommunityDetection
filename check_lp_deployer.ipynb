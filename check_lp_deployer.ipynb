{
 "cells": [
  {
   "cell_type": "code",
   "execution_count": 1,
   "metadata": {},
   "outputs": [],
   "source": [
    "import pandas as pd\n",
    "import seaborn as sns\n",
    "\n",
    "from databases.mongodb import MongoDB\n",
    "from databases.mongodb_entity import MongoDBEntity\n",
    "\n",
    "mongo = MongoDB()\n",
    "mongo_entity = MongoDBEntity()"
   ]
  },
  {
   "cell_type": "code",
   "execution_count": 2,
   "metadata": {},
   "outputs": [],
   "source": [
    "def get_pair_symbols_from_lp(chain_id, lp_address):\n",
    "    token0_addr, token1_addr = mongo.get_pair_addresses(chain_id, lp_address)\n",
    "    symbol0 = mongo_entity.get_token_symbol(chain_id, token0_addr)\n",
    "    symbol1 = mongo_entity.get_token_symbol(chain_id, token1_addr)\n",
    "    return symbol0, symbol1"
   ]
  },
  {
   "attachments": {},
   "cell_type": "markdown",
   "metadata": {},
   "source": [
    "## Pancake and Uniswap"
   ]
  },
  {
   "cell_type": "code",
   "execution_count": 15,
   "metadata": {},
   "outputs": [],
   "source": [
    "duplicated_deployers = mongo.get_duplicated_lp_deployer(pancake=1, uniswap=1)\n",
    "count_not_same_pair = 0\n",
    "deployers_of_not_same_pair = dict()\n",
    "for deployer in duplicated_deployers:\n",
    "    pancake_lp = deployer.get('ownedLPs').get('pancakeswap')[0]\n",
    "    pancake0, pancake1 = get_pair_symbols_from_lp(pancake_lp['chainId'], pancake_lp['address'])\n",
    "    pancake_pair = {pancake0, pancake1}\n",
    "\n",
    "    uniswap_lp = deployer.get('ownedLPs').get('uniswap')[0]\n",
    "    uniswap0, uniswap1 = get_pair_symbols_from_lp(uniswap_lp['chainId'], uniswap_lp['address'])\n",
    "    uniswap_pair = {uniswap0, uniswap1}\n",
    "\n",
    "    if not pancake_pair.intersection(uniswap_pair):\n",
    "        deployers_of_not_same_pair[deployer['address']] = {\n",
    "            'pancake': list(pancake_pair),\n",
    "            'uniswap': list(uniswap_pair)\n",
    "        }"
   ]
  },
  {
   "cell_type": "code",
   "execution_count": 17,
   "metadata": {},
   "outputs": [
    {
     "name": "stdout",
     "output_type": "stream",
     "text": [
      "28\n",
      "{'0x8d8aa4f2390dd31add06ce6a9374542020272d6b': {'pancake': ['cummies', 'cake'], 'uniswap': ['blz', 'usdt']}, '0x506cc4485a7fd42fea6f2acc97d7de697b88419d': {'pancake': ['busd', 'trdg'], 'uniswap': ['adt', 'weth']}, '0xb75a08e82a1bf0fcceb89bbdaf9aae00be8ca29a': {'pancake': ['wbnb', 'eggplant'], 'uniswap': ['gvc', 'weth']}, '0x6a0eb0201754fc201994df27474a9bc863ab70e8': {'pancake': ['fear', 'busd'], 'uniswap': ['orao', 'weth']}, '0x8cafd0397e1b09199a1b1239030cc6b011ae696d': {'pancake': ['busd', 'mtrg'], 'uniswap': ['weth', 'emtrg']}, '0x0e1ecb720ab2ed8e531a137ddf8c2eb5380e9ffb': {'pancake': ['wbnb', 'shieldnet'], 'uniswap': ['rbx', 'weth']}, '0x878c23428843f6a10472f68067384bc1c88631a1': {'pancake': ['busd', 'moz'], 'uniswap': ['weth', 'xdao']}, '0xc7d2fde79bdae639115607a5bddd1596058e9c29': {'pancake': ['yhc', 'busd'], 'uniswap': ['usdt', 'yfii']}, '0x262984751b9828ac6734f8d068d8d3643e9a098f': {'pancake': ['busd', 'volt'], 'uniswap': ['perx', 'xamp']}, '0x3dca07e16b2becd3eb76a9f9ce240b525451f887': {'pancake': ['wbnb', 'plut'], 'uniswap': ['wfair', 'usdc']}, '0x69e6717964273a4b031242bfcc904469ed7171dd': {'pancake': ['flash', 'ustc'], 'uniswap': ['crv', '$based']}, '0x88bd2c7d731f71903844fe88be16642e6a198926': {'pancake': ['safemoon', 'dot'], 'uniswap': ['cqt', 'weth']}, '0x0272272c1dabf0b3d44fe04cf6a60e7d054d35a2': {'pancake': ['zinu', 'busd'], 'uniswap': ['usdc', 'pols']}, '0x5507c55b325d20c307681f10cee98e00c696a058': {'pancake': ['bonfire', 'babydoge'], 'uniswap': ['shib', 'kishu']}, '0x2d1b8ba4a49c0338a301bd16ff43e4a6d2604dc3': {'pancake': ['wbnb', 'cell'], 'uniswap': ['weth', 'momento']}, '0xdebf3e3437b69d9f9724fa3236d6d260e20c78bb': {'pancake': ['vent', 'busd'], 'uniswap': ['opul', 'usdc']}, '0xf7e925818a20e5573ee0f3ba7abc963e17f2c476': {'pancake': ['elixir', 'wbnb'], 'uniswap': ['start', 'weth']}, '0x47d6466449ff0a70aaabbe78fb5f9d461a0ab17b': {'pancake': ['busd', 'elen'], 'uniswap': ['usdc', 'lty']}, '0x6700339e02ce1747332f0d25201a107ef376eec1': {'pancake': ['slyr', 'wbnb'], 'uniswap': ['csms', 'weth']}, '0x33976e703addea9849a3446a5bf6f7dfc28f98de': {'pancake': ['brdg', 'usdt'], 'uniswap': ['imx', 'usdc']}, '0x7e57eaa0f43bd35ad3cc28017f767b846dad6e08': {'pancake': ['wbnb', 'mit'], 'uniswap': ['cweb', 'weth']}, '0x3ddfa8ec3052539b6c9549f12cea2c295cff5296': {'pancake': ['wbnb', 'nft'], 'uniswap': ['btt', 'weth']}, '0xb71b13b85d2c094b0fdec64ab891b5bf5f110a8e': {'pancake': ['wbnb', 'yin'], 'uniswap': ['caw', 'weth']}, '0xb068253d7aac1440790444ff3b0565422bca7523': {'pancake': ['wbnb', 'mu'], 'uniswap': ['breed', 'weth']}, '0x76b60dcf71da2294f8aa034432d925d1eed8cf68': {'pancake': ['reuni', 'usdt'], 'uniswap': ['usdc', 'evmos']}, '0x2760da4b34fab67884d9f9905460373d268e407a': {'pancake': ['wbnb', 'h2on'], 'uniswap': ['gvr', 'weth']}, '0x5bd96882581dd75574b0d9a22d4ca12f4a46368b': {'pancake': ['busd', 'pri'], 'uniswap': ['prmx', 'weth']}, '0x9bf0800193825e3389b14eb69abde07dd932b6ac': {'pancake': ['wbnb', 'sensi'], 'uniswap': ['gtr', 'weth']}}\n"
     ]
    }
   ],
   "source": [
    "print(len(deployers_of_not_same_pair))\n",
    "print(deployers_of_not_same_pair)"
   ]
  },
  {
   "attachments": {},
   "cell_type": "markdown",
   "metadata": {},
   "source": [
    "## Pancake and Spooky"
   ]
  },
  {
   "cell_type": "code",
   "execution_count": 18,
   "metadata": {},
   "outputs": [],
   "source": [
    "duplicated_deployers = mongo.get_duplicated_lp_deployer(pancake=1, spooky=1)\n",
    "deployers_of_not_same_pair = dict()\n",
    "for deployer in duplicated_deployers:\n",
    "    pancake_lp = deployer.get('ownedLPs').get('pancakeswap')[0]\n",
    "    pancake0, pancake1 = get_pair_symbols_from_lp(pancake_lp['chainId'], pancake_lp['address'])\n",
    "    pancake_pair = {pancake0, pancake1}\n",
    "\n",
    "    spooky_lp = deployer.get('ownedLPs').get('spookyswap')[0]\n",
    "    spooky0, spooky1 = get_pair_symbols_from_lp(spooky_lp['chainId'], spooky_lp['address'])\n",
    "    spooky_pair = {spooky0, spooky1}\n",
    "\n",
    "    if not pancake_pair.intersection(spooky_pair):\n",
    "        deployers_of_not_same_pair[deployer['address']] = {\n",
    "            'pancake': list(pancake_pair),\n",
    "            'spookyswap': list(spooky_pair)\n",
    "        }"
   ]
  },
  {
   "cell_type": "code",
   "execution_count": 19,
   "metadata": {},
   "outputs": [
    {
     "name": "stdout",
     "output_type": "stream",
     "text": [
      "10\n",
      "{'0xf43bf83ed7ed1b844221bb3525e97bc9606827ca': {'pancake': ['derc', 'usdc'], 'spookyswap': ['wftm', 'fhm']}, '0x2165fa4a32b9c228cd55713f77d2e977297d03e8': {'pancake': ['busd', 'mor'], 'spookyswap': ['wftm', 'xgro']}, '0xd457e42afa6d1893d90225bc25c99457469ef461': {'pancake': ['wbnb', 'dali'], 'spookyswap': ['zoo', 'seance']}, '0xa6ceb04df822b296f7e58833d6ccdddf4e13914c': {'pancake': ['gzone', 'usdt'], 'spookyswap': ['comb', 'wftm']}, '0x9e182ce7e298b149106935642133e952f87fdbd6': {'pancake': ['weth', 'saito'], 'spookyswap': ['treeb', 'usdt']}, '0xf600b9042d4e01552fff5aa579944d3f930e5dd9': {'pancake': ['busd', 'sft'], 'spookyswap': ['usdc', 'pgk']}, '0x43b44b52de1b26b90b3abaa5b405946e4801925e': {'pancake': ['pacoca', 'bee'], 'spookyswap': ['treeb', 'lqdr']}, '0xdd05c2dfceb88fb9a6b2ab5806e16772f8a55897': {'pancake': ['raca', 'btcb'], 'spookyswap': ['babyboo', 'wmatic']}, '0x0428fdc1f59747b811eb3834344e065c216241c8': {'pancake': ['bunny', 'lunc'], 'spookyswap': ['bifi', 'deus']}, '0xecdcfae3e879bf566735b6dc174e4e352220d466': {'pancake': ['btcb', 'mgmoon'], 'spookyswap': ['wbtc', 'beets']}}\n"
     ]
    }
   ],
   "source": [
    "print(len(deployers_of_not_same_pair))\n",
    "print(deployers_of_not_same_pair)"
   ]
  },
  {
   "attachments": {},
   "cell_type": "markdown",
   "metadata": {},
   "source": [
    "## Uniswap and Spooky"
   ]
  },
  {
   "cell_type": "code",
   "execution_count": 30,
   "metadata": {},
   "outputs": [],
   "source": [
    "duplicated_deployers = mongo.get_duplicated_lp_deployer(uniswap=1, spooky=1)\n",
    "deployers_of_not_same_pair = dict()\n",
    "for deployer in duplicated_deployers:\n",
    "    uniswap_lp = deployer.get('ownedLPs').get('uniswap')[0]\n",
    "    uniswap0, uniswap1 = get_pair_symbols_from_lp(uniswap_lp['chainId'], uniswap_lp['address'])\n",
    "    uniswap_pair = {uniswap0, uniswap1}\n",
    "\n",
    "    spooky_lp = deployer.get('ownedLPs').get('spookyswap')[0]\n",
    "    spooky0, spooky1 = get_pair_symbols_from_lp(spooky_lp['chainId'], spooky_lp['address'])\n",
    "    spooky_pair = {spooky0, spooky1}\n",
    "\n",
    "    if not uniswap_pair.intersection(spooky_pair):\n",
    "        deployers_of_not_same_pair[deployer['address']] = {\n",
    "            'uniswap': list(uniswap_pair),\n",
    "            'spookyswap': list(spooky_pair)\n",
    "        }"
   ]
  },
  {
   "cell_type": "code",
   "execution_count": 31,
   "metadata": {},
   "outputs": [
    {
     "name": "stdout",
     "output_type": "stream",
     "text": [
      "7\n",
      "{'0x2144e1299b1b8e98c672e22b433ff25a9631c90c': {'uniswap': ['usdc', 'cap'], 'spookyswap': ['yel', 'weth']}, '0xea1ea22b5b1252ff05bc3dfa630381e72b87f002': {'uniswap': ['bly', 'weth'], 'spookyswap': ['boo', 'band']}, '0x43189898d712df36d37c41d2897843482f729c65': {'uniswap': ['sta', 'dai'], 'spookyswap': ['wsta', 'wftm']}, '0x9a45c63ef50d0cc8ccdaffc54ea5ac8007313a6f': {'uniswap': ['weth', 'magic'], 'spookyswap': ['wftm', 'zoo']}, '0x3c5aac016ef2f178e8699d6208796a2d67557fe2': {'uniswap': ['weth', 'cre8r'], 'spookyswap': ['wftm', 'bbadger']}, '0x4d72d4269ab46962713ca19cab8161a87684a163': {'uniswap': ['met', 'weth'], 'spookyswap': ['scarab', 'wftm']}, '0x0c6ac3fcea667fd6c62483ce1dbbce6f6ce0fb1f': {'uniswap': ['feg'], 'spookyswap': ['ice', 'weth']}}\n"
     ]
    }
   ],
   "source": [
    "print(len(deployers_of_not_same_pair))\n",
    "print(deployers_of_not_same_pair)"
   ]
  },
  {
   "attachments": {},
   "cell_type": "markdown",
   "metadata": {},
   "source": [
    "## All three"
   ]
  },
  {
   "cell_type": "code",
   "execution_count": 33,
   "metadata": {},
   "outputs": [],
   "source": [
    "duplicated_deployers = mongo.get_duplicated_lp_deployer(pancake=1, uniswap=1, spooky=1)\n",
    "deployers_of_not_same_pair = dict()\n",
    "for deployer in duplicated_deployers:\n",
    "    pancake_lp = deployer.get('ownedLPs').get('pancakeswap')[0]\n",
    "    pancake0, pancake1 = get_pair_symbols_from_lp(pancake_lp['chainId'], pancake_lp['address'])\n",
    "    pancake_pair = {pancake0, pancake1}\n",
    "\n",
    "    uniswap_lp = deployer.get('ownedLPs').get('uniswap')[0]\n",
    "    uniswap0, uniswap1 = get_pair_symbols_from_lp(uniswap_lp['chainId'], uniswap_lp['address'])\n",
    "    uniswap_pair = {uniswap0, uniswap1}\n",
    "\n",
    "    spooky_lp = deployer.get('ownedLPs').get('spookyswap')[0]\n",
    "    spooky0, spooky1 = get_pair_symbols_from_lp(spooky_lp['chainId'], spooky_lp['address'])\n",
    "    spooky_pair = {spooky0, spooky1}\n",
    "\n",
    "    if not set.intersection(pancake_pair, uniswap_pair, spooky_pair):\n",
    "        deployers_of_not_same_pair[deployer['address']] = {\n",
    "            'pancake': list(pancake_pair),\n",
    "            'uniswap': list(uniswap_pair),\n",
    "            'spookyswap': list(spooky_pair)\n",
    "        }"
   ]
  },
  {
   "cell_type": "code",
   "execution_count": 34,
   "metadata": {},
   "outputs": [
    {
     "name": "stdout",
     "output_type": "stream",
     "text": [
      "1\n",
      "{'0xae1c38847fb90a13a2a1d7e5552ccd80c62c6508': {'pancake': ['wbnb', 'abnbc'], 'uniswap': ['aethb', 'weth'], 'spookyswap': ['wftm', 'ankr']}}\n"
     ]
    }
   ],
   "source": [
    "print(len(deployers_of_not_same_pair))\n",
    "print(deployers_of_not_same_pair)"
   ]
  }
 ],
 "metadata": {
  "kernelspec": {
   "display_name": "venv",
   "language": "python",
   "name": "venv"
  },
  "language_info": {
   "codemirror_mode": {
    "name": "ipython",
    "version": 3
   },
   "file_extension": ".py",
   "mimetype": "text/x-python",
   "name": "python",
   "nbconvert_exporter": "python",
   "pygments_lexer": "ipython3",
   "version": "3.10.11"
  },
  "orig_nbformat": 4
 },
 "nbformat": 4,
 "nbformat_minor": 2
}
