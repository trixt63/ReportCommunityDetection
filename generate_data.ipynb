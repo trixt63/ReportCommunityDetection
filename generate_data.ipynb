{
 "cells": [
  {
   "cell_type": "code",
   "execution_count": 3,
   "metadata": {
    "ExecuteTime": {
     "end_time": "2023-08-08T09:29:30.519445789Z",
     "start_time": "2023-08-08T09:29:30.476790016Z"
    }
   },
   "outputs": [],
   "source": [
    "import pandas as pd\n",
    "import random\n",
    "from typing import Dict, List, Tuple\n",
    "\n",
    "from databases.mongodb import MongoDB\n",
    "\n",
    "mongodb = MongoDB()"
   ]
  },
  {
   "cell_type": "code",
   "execution_count": 6,
   "metadata": {
    "ExecuteTime": {
     "end_time": "2023-08-08T09:29:55.730866051Z",
     "start_time": "2023-08-08T09:29:55.727046923Z"
    }
   },
   "outputs": [],
   "source": [
    "def generate_wallets_pairs(chain_id):\n",
    "    groups = mongodb.get_groups_by_num_wallets(chain_id=chain_id,\n",
    "                                               num_user_cond={'$gt': 1, '$lte': 4},\n",
    "                                               num_depo_cond=1)\n",
    "    wallets_pairs: List[Tuple] = list()\n",
    "\n",
    "    for group in groups:\n",
    "        users = group['user_wallets']\n",
    "        random.shuffle(users)\n",
    "        wallets_pairs.append((users[0], users[1]))\n",
    "        if len(users) > 3:\n",
    "            wallets_pairs.append((users[2], users[3]))\n",
    "\n",
    "    return wallets_pairs"
   ]
  },
  {
   "cell_type": "code",
   "execution_count": 12,
   "outputs": [
    {
     "data": {
      "text/plain": "                                                 x  \\\ncount                                        37471   \nunique                                       37471   \ntop     0x7826d1fd382d877a2f202409c556fe21bc0432e9   \nfreq                                             1   \n\n                                                 y  \ncount                                        37471  \nunique                                       37471  \ntop     0xef59258c9dd77d650b564e08591a97d86568c46d  \nfreq                                             1  ",
      "text/html": "<div>\n<style scoped>\n    .dataframe tbody tr th:only-of-type {\n        vertical-align: middle;\n    }\n\n    .dataframe tbody tr th {\n        vertical-align: top;\n    }\n\n    .dataframe thead th {\n        text-align: right;\n    }\n</style>\n<table border=\"1\" class=\"dataframe\">\n  <thead>\n    <tr style=\"text-align: right;\">\n      <th></th>\n      <th>x</th>\n      <th>y</th>\n    </tr>\n  </thead>\n  <tbody>\n    <tr>\n      <th>count</th>\n      <td>37471</td>\n      <td>37471</td>\n    </tr>\n    <tr>\n      <th>unique</th>\n      <td>37471</td>\n      <td>37471</td>\n    </tr>\n    <tr>\n      <th>top</th>\n      <td>0x7826d1fd382d877a2f202409c556fe21bc0432e9</td>\n      <td>0xef59258c9dd77d650b564e08591a97d86568c46d</td>\n    </tr>\n    <tr>\n      <th>freq</th>\n      <td>1</td>\n      <td>1</td>\n    </tr>\n  </tbody>\n</table>\n</div>"
     },
     "execution_count": 12,
     "metadata": {},
     "output_type": "execute_result"
    }
   ],
   "source": [
    "bsc_wallets_pairs = generate_wallets_pairs('0x38')\n",
    "bsc_df = pd.DataFrame.from_records([{'x': pair[0], 'y': pair[1]} for pair in bsc_wallets_pairs])\n",
    "bsc_df.to_csv('.data/0x38_wallets_pairs.csv')\n",
    "bsc_df.describe()"
   ],
   "metadata": {
    "collapsed": false,
    "ExecuteTime": {
     "end_time": "2023-08-08T09:45:49.519550917Z",
     "start_time": "2023-08-08T09:45:23.472201935Z"
    }
   }
  },
  {
   "cell_type": "code",
   "execution_count": 13,
   "outputs": [
    {
     "data": {
      "text/plain": "                                                 x  \\\ncount                                        10877   \nunique                                       10877   \ntop     0xca0e472c65bb48b116827691aaad125cd4a8c92e   \nfreq                                             1   \n\n                                                 y  \ncount                                        10877  \nunique                                       10877  \ntop     0xb1eac3560521478e4c9d4a4a6cabaaca644b3f2a  \nfreq                                             1  ",
      "text/html": "<div>\n<style scoped>\n    .dataframe tbody tr th:only-of-type {\n        vertical-align: middle;\n    }\n\n    .dataframe tbody tr th {\n        vertical-align: top;\n    }\n\n    .dataframe thead th {\n        text-align: right;\n    }\n</style>\n<table border=\"1\" class=\"dataframe\">\n  <thead>\n    <tr style=\"text-align: right;\">\n      <th></th>\n      <th>x</th>\n      <th>y</th>\n    </tr>\n  </thead>\n  <tbody>\n    <tr>\n      <th>count</th>\n      <td>10877</td>\n      <td>10877</td>\n    </tr>\n    <tr>\n      <th>unique</th>\n      <td>10877</td>\n      <td>10877</td>\n    </tr>\n    <tr>\n      <th>top</th>\n      <td>0xca0e472c65bb48b116827691aaad125cd4a8c92e</td>\n      <td>0xb1eac3560521478e4c9d4a4a6cabaaca644b3f2a</td>\n    </tr>\n    <tr>\n      <th>freq</th>\n      <td>1</td>\n      <td>1</td>\n    </tr>\n  </tbody>\n</table>\n</div>"
     },
     "execution_count": 13,
     "metadata": {},
     "output_type": "execute_result"
    }
   ],
   "source": [
    "eth_wallets_pairs = generate_wallets_pairs('0x1')\n",
    "eth_df = pd.DataFrame.from_records([{'x': pair[0], 'y': pair[1]} for pair in eth_wallets_pairs])\n",
    "eth_df.to_csv('.data/0x1_wallets_pairs.csv')\n",
    "eth_df.describe()"
   ],
   "metadata": {
    "collapsed": false,
    "ExecuteTime": {
     "end_time": "2023-08-08T09:57:56.717267206Z",
     "start_time": "2023-08-08T09:57:49.532726196Z"
    }
   }
  }
 ],
 "metadata": {
  "kernelspec": {
   "name": "venv",
   "language": "python",
   "display_name": "venv"
  },
  "language_info": {
   "codemirror_mode": {
    "name": "ipython",
    "version": 3
   },
   "file_extension": ".py",
   "mimetype": "text/x-python",
   "name": "python",
   "nbconvert_exporter": "python",
   "pygments_lexer": "ipython3",
   "version": "3.10.12"
  },
  "orig_nbformat": 4
 },
 "nbformat": 4,
 "nbformat_minor": 2
}
