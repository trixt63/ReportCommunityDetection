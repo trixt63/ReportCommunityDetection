{
 "cells": [
  {
   "cell_type": "code",
   "execution_count": 1,
   "metadata": {
    "ExecuteTime": {
     "end_time": "2023-05-16T02:26:30.824522616Z",
     "start_time": "2023-05-16T02:26:30.726136860Z"
    },
    "collapsed": true
   },
   "outputs": [],
   "source": [
    "import json\n",
    "import pandas as pd\n",
    "import seaborn as sns\n",
    "from matplotlib import pyplot as plt\n",
    "from databases.mongodb import MongoDB\n",
    "from databases.blockchain_etl import BlockchainETL\n",
    "from databases.postgresql import PostgresDB\n",
    "from copy import deepcopy\n",
    "from itertools import combinations\n",
    "\n",
    "DB_PREFIX = ''\n",
    "with open('./artifacts/centralized_exchange_addresses.json', 'r') as f:\n",
    "    cex_hot_wallets = json.load(f)\n",
    "\n",
    "cexes = ['binance', 'coinbase-exchange', 'kucoin', 'bitfinex', 'crypto-com-exchange', 'huobi', 'bybit', 'gate-io', 'binance-us', 'okx', 'mxc', 'bilaxy']\n",
    "dexes = [\"pancakeswap\", \"spookyswap\"]\n",
    "lending_pools_0 = ['aave', 'venus', 'trava', 'cream', 'valas', 'compound', 'geist']\n",
    "\n",
    "chain_ids = ['0x38', '0x1', '0xfa', '0x89']\n",
    "chain_names = ['BSC', 'Ethereum', 'Fantom', \"Polygon\"]\n",
    "\n",
    "mongodb = MongoDB()\n",
    "blockchain_etl = BlockchainETL(db_prefix=DB_PREFIX)\n",
    "postgres = PostgresDB()"
   ]
  },
  {
   "attachments": {},
   "cell_type": "markdown",
   "metadata": {
    "collapsed": false
   },
   "source": [
    "## Lending pools"
   ]
  },
  {
   "attachments": {},
   "cell_type": "markdown",
   "metadata": {},
   "source": [
    "Get number of lending wallets of each lending pool and on each chain"
   ]
  },
  {
   "cell_type": "code",
   "execution_count": 2,
   "metadata": {},
   "outputs": [
    {
     "name": "stdout",
     "output_type": "stream",
     "text": [
      "{'aave': [0, 70233, 0, 1942, 72175], 'venus': [75445, 0, 0, 0, 75445], 'trava': [705, 3488, 207, 0, 4400], 'cream': [1908, 0, 744, 0, 2652], 'valas': [2154, 0, 0, 0, 2154], 'compound': [0, 195123, 0, 0, 195123], 'geist': [0, 0, 21857, 0, 21857]}\n"
     ]
    },
    {
     "data": {
      "text/html": [
       "<div>\n",
       "<style scoped>\n",
       "    .dataframe tbody tr th:only-of-type {\n",
       "        vertical-align: middle;\n",
       "    }\n",
       "\n",
       "    .dataframe tbody tr th {\n",
       "        vertical-align: top;\n",
       "    }\n",
       "\n",
       "    .dataframe thead th {\n",
       "        text-align: right;\n",
       "    }\n",
       "</style>\n",
       "<table border=\"1\" class=\"dataframe\">\n",
       "  <thead>\n",
       "    <tr style=\"text-align: right;\">\n",
       "      <th></th>\n",
       "      <th>sum</th>\n",
       "      <th>BSC</th>\n",
       "      <th>Ethereum</th>\n",
       "      <th>Fantom</th>\n",
       "      <th>Polygon</th>\n",
       "    </tr>\n",
       "  </thead>\n",
       "  <tbody>\n",
       "    <tr>\n",
       "      <th>aave</th>\n",
       "      <td>0</td>\n",
       "      <td>70233</td>\n",
       "      <td>0</td>\n",
       "      <td>1942</td>\n",
       "      <td>72175</td>\n",
       "    </tr>\n",
       "    <tr>\n",
       "      <th>venus</th>\n",
       "      <td>75445</td>\n",
       "      <td>0</td>\n",
       "      <td>0</td>\n",
       "      <td>0</td>\n",
       "      <td>75445</td>\n",
       "    </tr>\n",
       "    <tr>\n",
       "      <th>trava</th>\n",
       "      <td>705</td>\n",
       "      <td>3488</td>\n",
       "      <td>207</td>\n",
       "      <td>0</td>\n",
       "      <td>4400</td>\n",
       "    </tr>\n",
       "    <tr>\n",
       "      <th>cream</th>\n",
       "      <td>1908</td>\n",
       "      <td>0</td>\n",
       "      <td>744</td>\n",
       "      <td>0</td>\n",
       "      <td>2652</td>\n",
       "    </tr>\n",
       "    <tr>\n",
       "      <th>valas</th>\n",
       "      <td>2154</td>\n",
       "      <td>0</td>\n",
       "      <td>0</td>\n",
       "      <td>0</td>\n",
       "      <td>2154</td>\n",
       "    </tr>\n",
       "    <tr>\n",
       "      <th>compound</th>\n",
       "      <td>0</td>\n",
       "      <td>195123</td>\n",
       "      <td>0</td>\n",
       "      <td>0</td>\n",
       "      <td>195123</td>\n",
       "    </tr>\n",
       "    <tr>\n",
       "      <th>geist</th>\n",
       "      <td>0</td>\n",
       "      <td>0</td>\n",
       "      <td>21857</td>\n",
       "      <td>0</td>\n",
       "      <td>21857</td>\n",
       "    </tr>\n",
       "  </tbody>\n",
       "</table>\n",
       "</div>"
      ],
      "text/plain": [
       "            sum     BSC  Ethereum  Fantom  Polygon\n",
       "aave          0   70233         0    1942    72175\n",
       "venus     75445       0         0       0    75445\n",
       "trava       705    3488       207       0     4400\n",
       "cream      1908       0       744       0     2652\n",
       "valas      2154       0         0       0     2154\n",
       "compound      0  195123         0       0   195123\n",
       "geist         0       0     21857       0    21857"
      ]
     },
     "execution_count": 2,
     "metadata": {},
     "output_type": "execute_result"
    }
   ],
   "source": [
    "data = {}\n",
    "columns = []\n",
    "\n",
    "for lending in lending_pools_0:\n",
    "    data[lending] = []\n",
    "\n",
    "    for chain_id in chain_ids:\n",
    "        c = mongodb.count_wallets_each_chain('lendingpools', lending, chain_id)\n",
    "        c += mongodb.count_wallets_each_chain('lendingpools', 'pool_' + lending, chain_id)\n",
    "        data[lending].append(c)\n",
    "    _filter_1 = {f\"lendingpools.{lending}\": {\"$exists\": True}}\n",
    "    _filter_2 = {f\"lendingpools.pool_{lending}\": {\"$exists\": True}}\n",
    "    sum = mongodb.count_wallets(_filter_1) + mongodb.count_wallets(_filter_2)\n",
    "    data[lending].append(sum)\n",
    "\n",
    "columns=deepcopy(chain_names)\n",
    "columns.insert(0, 'sum')\n",
    "print(data)\n",
    "df = pd.DataFrame.from_dict(data, orient='index', columns=columns)\n",
    "df"
   ]
  },
  {
   "cell_type": "code",
   "execution_count": 4,
   "metadata": {},
   "outputs": [
    {
     "data": {
      "text/html": [
       "<div>\n",
       "<style scoped>\n",
       "    .dataframe tbody tr th:only-of-type {\n",
       "        vertical-align: middle;\n",
       "    }\n",
       "\n",
       "    .dataframe tbody tr th {\n",
       "        vertical-align: top;\n",
       "    }\n",
       "\n",
       "    .dataframe thead th {\n",
       "        text-align: right;\n",
       "    }\n",
       "</style>\n",
       "<table border=\"1\" class=\"dataframe\">\n",
       "  <thead>\n",
       "    <tr style=\"text-align: right;\">\n",
       "      <th></th>\n",
       "      <th>sum</th>\n",
       "      <th>BSC</th>\n",
       "      <th>Ethereum</th>\n",
       "      <th>Fantom</th>\n",
       "      <th>Polygon</th>\n",
       "    </tr>\n",
       "  </thead>\n",
       "  <tbody>\n",
       "    <tr>\n",
       "      <th>aave</th>\n",
       "      <td>0</td>\n",
       "      <td>70233</td>\n",
       "      <td>0</td>\n",
       "      <td>1942</td>\n",
       "      <td>72175</td>\n",
       "    </tr>\n",
       "    <tr>\n",
       "      <th>venus</th>\n",
       "      <td>75445</td>\n",
       "      <td>0</td>\n",
       "      <td>0</td>\n",
       "      <td>0</td>\n",
       "      <td>75445</td>\n",
       "    </tr>\n",
       "    <tr>\n",
       "      <th>trava</th>\n",
       "      <td>705</td>\n",
       "      <td>3488</td>\n",
       "      <td>207</td>\n",
       "      <td>0</td>\n",
       "      <td>4400</td>\n",
       "    </tr>\n",
       "    <tr>\n",
       "      <th>cream</th>\n",
       "      <td>1908</td>\n",
       "      <td>0</td>\n",
       "      <td>744</td>\n",
       "      <td>0</td>\n",
       "      <td>2652</td>\n",
       "    </tr>\n",
       "    <tr>\n",
       "      <th>valas</th>\n",
       "      <td>2154</td>\n",
       "      <td>0</td>\n",
       "      <td>0</td>\n",
       "      <td>0</td>\n",
       "      <td>2154</td>\n",
       "    </tr>\n",
       "    <tr>\n",
       "      <th>compound</th>\n",
       "      <td>0</td>\n",
       "      <td>195123</td>\n",
       "      <td>0</td>\n",
       "      <td>0</td>\n",
       "      <td>195123</td>\n",
       "    </tr>\n",
       "    <tr>\n",
       "      <th>geist</th>\n",
       "      <td>0</td>\n",
       "      <td>0</td>\n",
       "      <td>21857</td>\n",
       "      <td>0</td>\n",
       "      <td>21857</td>\n",
       "    </tr>\n",
       "  </tbody>\n",
       "</table>\n",
       "</div>"
      ],
      "text/plain": [
       "            sum     BSC  Ethereum  Fantom  Polygon\n",
       "aave          0   70233         0    1942    72175\n",
       "venus     75445       0         0       0    75445\n",
       "trava       705    3488       207       0     4400\n",
       "cream      1908       0       744       0     2652\n",
       "valas      2154       0         0       0     2154\n",
       "compound      0  195123         0       0   195123\n",
       "geist         0       0     21857       0    21857"
      ]
     },
     "execution_count": 4,
     "metadata": {},
     "output_type": "execute_result"
    }
   ],
   "source": [
    "df.head(10)"
   ]
  },
  {
   "cell_type": "code",
   "execution_count": 12,
   "metadata": {},
   "outputs": [
    {
     "name": "stdout",
     "output_type": "stream",
     "text": [
      "['0x38', '0x1', '0xfa', '0x89', 'sum']\n",
      "{'aave': [0, 70233, 0, 1942, 0, 0, 0, 72175], 'venus': [75446, 0, 0, 0, 0, 0, 0, 75446], 'trava': [705, 3488, 207, 0, 0, 0, 0, 4400], 'cream': [1908, 0, 744, 0, 0, 0, 0, 2652], 'valas': [2154, 0, 0, 0, 0, 0, 0, 2154], 'compound': [0, 195123, 0, 0, 0, 0, 0, 195123], 'geist': [0, 0, 21857, 0, 0, 0, 0, 21857]}\n"
     ]
    }
   ],
   "source": [
    "print(columns)\n",
    "print(data)"
   ]
  },
  {
   "attachments": {},
   "cell_type": "markdown",
   "metadata": {},
   "source": [
    "## Deposit wallets"
   ]
  },
  {
   "attachments": {},
   "cell_type": "markdown",
   "metadata": {},
   "source": [
    "### Statistics of deposit wallets on multi-chain"
   ]
  },
  {
   "cell_type": "code",
   "execution_count": 2,
   "metadata": {},
   "outputs": [
    {
     "name": "stdout",
     "output_type": "stream",
     "text": [
      "{'binance': [2632253, 3045233, 0, 0, 5059667], 'coinbase-exchange': [0, 2698378, 0, 0, 2698378], 'kucoin': [0, 1268972, 0, 0, 1268972], 'bitfinex': [0, 14979, 1088, 2152, 17994], 'crypto-com-exchange': [15399, 1101779, 9869, 68482, 1143368], 'huobi': [0, 213019, 0, 29981, 240954], 'bybit': [255661, 382956, 0, 61460, 622678], 'gate-io': [151590, 179221, 11187, 45378, 354410], 'binance-us': [0, 139271, 0, 0, 139271], 'okx': [0, 417555, 0, 232242, 618364], 'mxc': [294691, 213882, 0, 0, 488760], 'bilaxy': [0, 0, 0, 0, 0]}\n",
      "['BSC', 'Ethereum', 'Fantom', 'Polygon', 'total']\n"
     ]
    }
   ],
   "source": [
    "data = {}\n",
    "\n",
    "for cex in cexes:\n",
    "    data[cex] = []\n",
    "    for chain_id in chain_ids:\n",
    "        c = mongodb.count_exchange_deposit_wallets_each_chain('depositedExchanges', cex, chain_id)\n",
    "        data[cex].append(c)\n",
    "    # total number of wallets on all chains\n",
    "    _filter = {f\"depositedExchanges.{cex}\": {\"$exists\": 1}}\n",
    "    _count = mongodb.count_wallets(_filter)\n",
    "    data[cex].append(_count)\n",
    "\n",
    "columns = deepcopy(chain_names)\n",
    "columns.append('total')\n",
    "print(data)\n",
    "print(columns)"
   ]
  },
  {
   "cell_type": "code",
   "execution_count": 4,
   "metadata": {},
   "outputs": [
    {
     "name": "stdout",
     "output_type": "stream",
     "text": [
      "{'binance': [2632253, 3045233, 0, 0, 5059667], 'coinbase-exchange': [0, 2698378, 0, 0, 2698378], 'kucoin': [0, 1268972, 0, 0, 1268972], 'bitfinex': [0, 14979, 1088, 2152, 17994], 'crypto-com-exchange': [15399, 1101779, 9869, 68482, 1143368], 'huobi': [0, 213019, 0, 29981, 240954], 'bybit': [255661, 382956, 0, 61460, 622678], 'gate-io': [151590, 179221, 11187, 45378, 354410], 'binance-us': [0, 139271, 0, 0, 139271], 'okx': [0, 417555, 0, 232242, 618364], 'mxc': [294691, 213882, 0, 0, 488760], 'bilaxy': [0, 0, 0, 0, 0]}\n",
      "['BSC', 'Ethereum', 'Fantom', 'Polygon', 'total']\n"
     ]
    },
    {
     "data": {
      "text/html": [
       "<div>\n",
       "<style scoped>\n",
       "    .dataframe tbody tr th:only-of-type {\n",
       "        vertical-align: middle;\n",
       "    }\n",
       "\n",
       "    .dataframe tbody tr th {\n",
       "        vertical-align: top;\n",
       "    }\n",
       "\n",
       "    .dataframe thead th {\n",
       "        text-align: right;\n",
       "    }\n",
       "</style>\n",
       "<table border=\"1\" class=\"dataframe\">\n",
       "  <thead>\n",
       "    <tr style=\"text-align: right;\">\n",
       "      <th></th>\n",
       "      <th>BSC</th>\n",
       "      <th>Ethereum</th>\n",
       "      <th>Fantom</th>\n",
       "      <th>Polygon</th>\n",
       "      <th>total</th>\n",
       "    </tr>\n",
       "  </thead>\n",
       "  <tbody>\n",
       "    <tr>\n",
       "      <th>binance</th>\n",
       "      <td>2632253</td>\n",
       "      <td>3045233</td>\n",
       "      <td>0</td>\n",
       "      <td>0</td>\n",
       "      <td>5059667</td>\n",
       "    </tr>\n",
       "    <tr>\n",
       "      <th>coinbase-exchange</th>\n",
       "      <td>0</td>\n",
       "      <td>2698378</td>\n",
       "      <td>0</td>\n",
       "      <td>0</td>\n",
       "      <td>2698378</td>\n",
       "    </tr>\n",
       "    <tr>\n",
       "      <th>kucoin</th>\n",
       "      <td>0</td>\n",
       "      <td>1268972</td>\n",
       "      <td>0</td>\n",
       "      <td>0</td>\n",
       "      <td>1268972</td>\n",
       "    </tr>\n",
       "    <tr>\n",
       "      <th>bitfinex</th>\n",
       "      <td>0</td>\n",
       "      <td>14979</td>\n",
       "      <td>1088</td>\n",
       "      <td>2152</td>\n",
       "      <td>17994</td>\n",
       "    </tr>\n",
       "    <tr>\n",
       "      <th>crypto-com-exchange</th>\n",
       "      <td>15399</td>\n",
       "      <td>1101779</td>\n",
       "      <td>9869</td>\n",
       "      <td>68482</td>\n",
       "      <td>1143368</td>\n",
       "    </tr>\n",
       "    <tr>\n",
       "      <th>huobi</th>\n",
       "      <td>0</td>\n",
       "      <td>213019</td>\n",
       "      <td>0</td>\n",
       "      <td>29981</td>\n",
       "      <td>240954</td>\n",
       "    </tr>\n",
       "    <tr>\n",
       "      <th>bybit</th>\n",
       "      <td>255661</td>\n",
       "      <td>382956</td>\n",
       "      <td>0</td>\n",
       "      <td>61460</td>\n",
       "      <td>622678</td>\n",
       "    </tr>\n",
       "    <tr>\n",
       "      <th>gate-io</th>\n",
       "      <td>151590</td>\n",
       "      <td>179221</td>\n",
       "      <td>11187</td>\n",
       "      <td>45378</td>\n",
       "      <td>354410</td>\n",
       "    </tr>\n",
       "    <tr>\n",
       "      <th>binance-us</th>\n",
       "      <td>0</td>\n",
       "      <td>139271</td>\n",
       "      <td>0</td>\n",
       "      <td>0</td>\n",
       "      <td>139271</td>\n",
       "    </tr>\n",
       "    <tr>\n",
       "      <th>okx</th>\n",
       "      <td>0</td>\n",
       "      <td>417555</td>\n",
       "      <td>0</td>\n",
       "      <td>232242</td>\n",
       "      <td>618364</td>\n",
       "    </tr>\n",
       "    <tr>\n",
       "      <th>mxc</th>\n",
       "      <td>294691</td>\n",
       "      <td>213882</td>\n",
       "      <td>0</td>\n",
       "      <td>0</td>\n",
       "      <td>488760</td>\n",
       "    </tr>\n",
       "    <tr>\n",
       "      <th>bilaxy</th>\n",
       "      <td>0</td>\n",
       "      <td>0</td>\n",
       "      <td>0</td>\n",
       "      <td>0</td>\n",
       "      <td>0</td>\n",
       "    </tr>\n",
       "  </tbody>\n",
       "</table>\n",
       "</div>"
      ],
      "text/plain": [
       "                         BSC  Ethereum  Fantom  Polygon    total\n",
       "binance              2632253   3045233       0        0  5059667\n",
       "coinbase-exchange          0   2698378       0        0  2698378\n",
       "kucoin                     0   1268972       0        0  1268972\n",
       "bitfinex                   0     14979    1088     2152    17994\n",
       "crypto-com-exchange    15399   1101779    9869    68482  1143368\n",
       "huobi                      0    213019       0    29981   240954\n",
       "bybit                 255661    382956       0    61460   622678\n",
       "gate-io               151590    179221   11187    45378   354410\n",
       "binance-us                 0    139271       0        0   139271\n",
       "okx                        0    417555       0   232242   618364\n",
       "mxc                   294691    213882       0        0   488760\n",
       "bilaxy                     0         0       0        0        0"
      ]
     },
     "execution_count": 4,
     "metadata": {},
     "output_type": "execute_result"
    }
   ],
   "source": [
    "print(data)\n",
    "print(columns)\n",
    "df = pd.DataFrame.from_dict(data, orient='index', columns=columns)\n",
    "df\n"
   ]
  },
  {
   "cell_type": "code",
   "execution_count": 6,
   "metadata": {},
   "outputs": [],
   "source": [
    "cexes_pairs = combinations(cexes, 2)\n",
    "addrs_set = set()\n",
    "for _pair in cexes_pairs:\n",
    "    _filter = {f\"depositedExchanges.{_pair[0]}\": {\"$exists\": 1}, \n",
    "               f\"depositedExchanges.{_pair[1]}\": {\"$exists\": 1}}\n",
    "    _projection = {\"address\": 1}\n",
    "    # _count = mongodb.count_wallets(_filter)\n",
    "    # print(f'{_pair}: {_count}')\n",
    "    data = mongodb.get_wallets(_filter)\n",
    "\n",
    "    for datum in data:\n",
    "        addr = datum['address']\n",
    "        addrs_set.add(addr)"
   ]
  },
  {
   "cell_type": "code",
   "execution_count": 14,
   "metadata": {},
   "outputs": [
    {
     "name": "stdout",
     "output_type": "stream",
     "text": [
      "2469\n"
     ]
    }
   ],
   "source": [
    "print(len(addrs_set))\n",
    "with open('duplicated_deposit_addresses.json', 'w+') as f:\n",
    "    json.dump(list(addrs_set), f)"
   ]
  },
  {
   "cell_type": "code",
   "execution_count": 15,
   "metadata": {},
   "outputs": [],
   "source": [
    "example_wallet = \"0x4c9df57276dc17dee5635ded208c07b0be32afd0\""
   ]
  },
  {
   "cell_type": "code",
   "execution_count": 16,
   "metadata": {},
   "outputs": [
    {
     "name": "stderr",
     "output_type": "stream",
     "text": [
      "[05-19-2023 09:26:05 +07] [DEBUG] [Time Execute] - DATABASE:BlockchainETL.get_all_transactions_from_1_to_n executed in 0.0s\n"
     ]
    },
    {
     "name": "stdout",
     "output_type": "stream",
     "text": [
      "CEX 1\n"
     ]
    },
    {
     "name": "stderr",
     "output_type": "stream",
     "text": [
      "[05-19-2023 09:26:06 +07] [DEBUG] [Time Execute] - DATABASE:PostgresDB.get_all_transfers_from_1_to_n executed in 0.935s\n"
     ]
    },
    {
     "name": "stdout",
     "output_type": "stream",
     "text": [
      "{'_id': 'transaction_0xbda2e2ff11020f14f0a132d271802bdd0a9df1d0a24a092d95c7ee1db7f6b24f', 'hash': '0xbda2e2ff11020f14f0a132d271802bdd0a9df1d0a24a092d95c7ee1db7f6b24f', 'to_address': '0x515b72ed8a97f42c568d6a143232775018f133c8'}\n",
      "{'_id': 'transaction_0xe5320d581df46d15938a9db9ce8864c8a6a4af87e1b7360542ce8171360dfbe7', 'hash': '0xe5320d581df46d15938a9db9ce8864c8a6a4af87e1b7360542ce8171360dfbe7', 'to_address': '0xeb2d2f1b8c558a40207669291fda468e50c8a0bb'}\n",
      "{'_id': 'transaction_0x94ba8f110c54b875cce40b93354ff36bebea9c17778e0e275f39fe18fa7e2422', 'hash': '0x94ba8f110c54b875cce40b93354ff36bebea9c17778e0e275f39fe18fa7e2422', 'to_address': '0xdccf3b77da55107280bd850ea519df3705d1a75a'}\n",
      "{'_id': 'transaction_0xa4a184c6177199157bc074d0ae9d4931cf380532710c5e697faf4d99b924062e', 'hash': '0xa4a184c6177199157bc074d0ae9d4931cf380532710c5e697faf4d99b924062e', 'to_address': '0xdccf3b77da55107280bd850ea519df3705d1a75a'}\n",
      "{'_id': 'transaction_0xb144734ec37287d130c9ef46bca5a0cc3199389cf6fd92ea6ea5b82e7ba66899', 'hash': '0xb144734ec37287d130c9ef46bca5a0cc3199389cf6fd92ea6ea5b82e7ba66899', 'to_address': '0xeb2d2f1b8c558a40207669291fda468e50c8a0bb'}\n",
      "{'_id': 'transaction_0x3239368b8b981c445eb0211e3c329ef55e4140f2b19ba4b1be76c371bfd341cc', 'hash': '0x3239368b8b981c445eb0211e3c329ef55e4140f2b19ba4b1be76c371bfd341cc', 'to_address': '0xeb2d2f1b8c558a40207669291fda468e50c8a0bb'}\n"
     ]
    }
   ],
   "source": [
    "chain_id = \"0x38\"\n",
    "cex = \"binance\"\n",
    "print(\"CEX 1\")\n",
    "binance_wallets = cex_hot_wallets.get(cex).get('wallets').get(chain_id)\n",
    "transactions = blockchain_etl.get_all_transactions_from_1_to_n(from_address=example_wallet, to_addresses=binance_wallets)\n",
    "transfers = postgres.get_all_transfers_from_1_to_n(from_address=example_wallet, to_addresses=binance_wallets)\n",
    "for tx in transactions:\n",
    "    print(tx)\n",
    "for t in transfers:\n",
    "    print(t)\n"
   ]
  },
  {
   "cell_type": "code",
   "execution_count": 17,
   "metadata": {},
   "outputs": [
    {
     "name": "stderr",
     "output_type": "stream",
     "text": [
      "[05-19-2023 09:26:09 +07] [DEBUG] [Time Execute] - DATABASE:PostgresDB.get_all_transfers_from_1_to_n executed in 0.059s\n"
     ]
    }
   ],
   "source": [
    "chain_id = \"0xfa\"\n",
    "cex = \"crypto-com-exchange\"\n",
    "hot_wallets = cex_hot_wallets.get(cex).get('wallets').get(chain_id)\n",
    "# transactions = BlockchainETL(db_prefix='ftm').get_all_transactions_from_1_to_n(from_address=example_wallet, to_addresses=hot_wallets)\n",
    "transfers = postgres.get_all_transfers_from_1_to_n(from_address=example_wallet, to_addresses=hot_wallets)\n",
    "for tx in transactions:\n",
    "    print(tx)\n",
    "for t in transfers:\n",
    "    print(t)"
   ]
  },
  {
   "attachments": {},
   "cell_type": "markdown",
   "metadata": {},
   "source": [
    "## LP tokens"
   ]
  },
  {
   "cell_type": "code",
   "execution_count": 2,
   "metadata": {},
   "outputs": [],
   "source": [
    "def get_dataframe(chain_id):\n",
    "    \"\"\"Get dataframe about distribution of LP tokens on balances\"\"\"\n",
    "    balances_list = [i * 10000 for i in range(1, 51)]\n",
    "    balances_list.insert(0, 1000)\n",
    "    # chain_id = '0x38'\n",
    "    dist_dict = {'range in 10k': [], 'number of wallets': []}\n",
    "\n",
    "    # less than the smallest\n",
    "    n = mongodb.get_number_lps_by_balances_range(chain_id=chain_id, upper=balances_list[0])\n",
    "    dist_dict['range in 10k'].append(f\"{0}\")\n",
    "    dist_dict['number of wallets'].append(n)\n",
    "\n",
    "    # others\n",
    "    for b in range(len(balances_list) - 1):\n",
    "        n = mongodb.get_number_lps_by_balances_range(chain_id, upper=balances_list[b+1], lower=balances_list[b])\n",
    "        dist_dict['range in 10k'].append(f\"{int(balances_list[b]/1000)}\")\n",
    "        dist_dict['number of wallets'].append(n)\n",
    "\n",
    "    # more than the largest\n",
    "    n = mongodb.get_number_lps_by_balances_range(chain_id=chain_id, lower=balances_list[-1])\n",
    "    dist_dict['range in 10k'].append(f\"{balances_list[-1]}\")\n",
    "    dist_dict['number of wallets'].append(n)   \n",
    "\n",
    "    df = pd.DataFrame.from_dict(dist_dict)\n",
    "    return df"
   ]
  },
  {
   "attachments": {},
   "cell_type": "markdown",
   "metadata": {},
   "source": [
    "#### LP tokens on 0x38"
   ]
  },
  {
   "cell_type": "code",
   "execution_count": 3,
   "metadata": {},
   "outputs": [
    {
     "data": {
      "text/html": [
       "<div>\n",
       "<style scoped>\n",
       "    .dataframe tbody tr th:only-of-type {\n",
       "        vertical-align: middle;\n",
       "    }\n",
       "\n",
       "    .dataframe tbody tr th {\n",
       "        vertical-align: top;\n",
       "    }\n",
       "\n",
       "    .dataframe thead th {\n",
       "        text-align: right;\n",
       "    }\n",
       "</style>\n",
       "<table border=\"1\" class=\"dataframe\">\n",
       "  <thead>\n",
       "    <tr style=\"text-align: right;\">\n",
       "      <th></th>\n",
       "      <th>range in 10k</th>\n",
       "      <th>number of wallets</th>\n",
       "    </tr>\n",
       "  </thead>\n",
       "  <tbody>\n",
       "    <tr>\n",
       "      <th>0</th>\n",
       "      <td>0</td>\n",
       "      <td>10434</td>\n",
       "    </tr>\n",
       "    <tr>\n",
       "      <th>1</th>\n",
       "      <td>1</td>\n",
       "      <td>1192</td>\n",
       "    </tr>\n",
       "    <tr>\n",
       "      <th>2</th>\n",
       "      <td>10</td>\n",
       "      <td>627</td>\n",
       "    </tr>\n",
       "    <tr>\n",
       "      <th>3</th>\n",
       "      <td>20</td>\n",
       "      <td>427</td>\n",
       "    </tr>\n",
       "    <tr>\n",
       "      <th>4</th>\n",
       "      <td>30</td>\n",
       "      <td>333</td>\n",
       "    </tr>\n",
       "  </tbody>\n",
       "</table>\n",
       "</div>"
      ],
      "text/plain": [
       "  range in 10k  number of wallets\n",
       "0            0              10434\n",
       "1            1               1192\n",
       "2           10                627\n",
       "3           20                427\n",
       "4           30                333"
      ]
     },
     "execution_count": 3,
     "metadata": {},
     "output_type": "execute_result"
    }
   ],
   "source": [
    "# for 0x38\n",
    "df_0x38 = get_dataframe('0x38')\n",
    "df_0x38.head()"
   ]
  },
  {
   "cell_type": "code",
   "execution_count": 4,
   "metadata": {},
   "outputs": [
    {
     "data": {
      "text/plain": [
       "<Axes: xlabel='range in 10k', ylabel='number of wallets'>"
      ]
     },
     "execution_count": 4,
     "metadata": {},
     "output_type": "execute_result"
    },
    {
     "data": {
      "image/png": "[encoded data removed]",
      "text/plain": [
       "<Figure size 2000x900 with 1 Axes>"
      ]
     },
     "metadata": {},
     "output_type": "display_data"
    }
   ],
   "source": [
    "df_0x38_trimmed = df_0x38.iloc[1:]\n",
    "sns.set(rc={'figure.figsize': (20, 9)})\n",
    "sns.barplot(data=df_0x38_trimmed, x=\"range in 10k\", y=\"number of wallets\")"
   ]
  },
  {
   "cell_type": "code",
   "execution_count": 5,
   "metadata": {},
   "outputs": [
    {
     "name": "stdout",
     "output_type": "stream",
     "text": [
      "More than 500000.0: 338\n",
      "100000.0 to 500000.0: 971\n",
      "10000.0 to 100000.0: 2321\n",
      "1000.0 to 10000.0: 1192\n",
      "Less than 1000.0: 10434\n"
     ]
    }
   ],
   "source": [
    "levels_list = [5e5, 1e5, 1e4, 1e3]\n",
    "big_cheese = mongodb.get_number_lps_by_balances_range(chain_ids[0], lower=levels_list[0])\n",
    "small_fries = mongodb.get_number_lps_by_balances_range(chain_ids[0], upper=levels_list[-1])\n",
    "print(f\"More than {levels_list[0]}: {big_cheese}\")\n",
    "for i in range(len(levels_list)-1):\n",
    "    n = mongodb.get_number_lps_by_balances_range(chain_ids[0], upper=levels_list[i], lower=levels_list[i+1])\n",
    "    print(f\"{levels_list[i+1]} to {levels_list[i]}: {n}\")\n",
    "print(f\"Less than {levels_list[-1]}: {small_fries}\")"
   ]
  },
  {
   "attachments": {},
   "cell_type": "markdown",
   "metadata": {},
   "source": [
    "#### LP tokens on 0x1"
   ]
  },
  {
   "cell_type": "code",
   "execution_count": 6,
   "metadata": {},
   "outputs": [
    {
     "data": {
      "text/html": [
       "<div>\n",
       "<style scoped>\n",
       "    .dataframe tbody tr th:only-of-type {\n",
       "        vertical-align: middle;\n",
       "    }\n",
       "\n",
       "    .dataframe tbody tr th {\n",
       "        vertical-align: top;\n",
       "    }\n",
       "\n",
       "    .dataframe thead th {\n",
       "        text-align: right;\n",
       "    }\n",
       "</style>\n",
       "<table border=\"1\" class=\"dataframe\">\n",
       "  <thead>\n",
       "    <tr style=\"text-align: right;\">\n",
       "      <th></th>\n",
       "      <th>range in 10k</th>\n",
       "      <th>number of wallets</th>\n",
       "    </tr>\n",
       "  </thead>\n",
       "  <tbody>\n",
       "    <tr>\n",
       "      <th>0</th>\n",
       "      <td>0</td>\n",
       "      <td>3291</td>\n",
       "    </tr>\n",
       "    <tr>\n",
       "      <th>1</th>\n",
       "      <td>1</td>\n",
       "      <td>660</td>\n",
       "    </tr>\n",
       "    <tr>\n",
       "      <th>2</th>\n",
       "      <td>10</td>\n",
       "      <td>291</td>\n",
       "    </tr>\n",
       "    <tr>\n",
       "      <th>3</th>\n",
       "      <td>20</td>\n",
       "      <td>211</td>\n",
       "    </tr>\n",
       "    <tr>\n",
       "      <th>4</th>\n",
       "      <td>30</td>\n",
       "      <td>166</td>\n",
       "    </tr>\n",
       "  </tbody>\n",
       "</table>\n",
       "</div>"
      ],
      "text/plain": [
       "  range in 10k  number of wallets\n",
       "0            0               3291\n",
       "1            1                660\n",
       "2           10                291\n",
       "3           20                211\n",
       "4           30                166"
      ]
     },
     "execution_count": 6,
     "metadata": {},
     "output_type": "execute_result"
    }
   ],
   "source": [
    "df_0x1 = get_dataframe('0x1')\n",
    "df_0x1.head()"
   ]
  },
  {
   "cell_type": "code",
   "execution_count": 7,
   "metadata": {},
   "outputs": [
    {
     "data": {
      "text/plain": [
       "<Axes: xlabel='range in 10k', ylabel='number of wallets'>"
      ]
     },
     "execution_count": 7,
     "metadata": {},
     "output_type": "execute_result"
    },
    {
     "data": {
      "image/png": "[encoded data removed]",
      "text/plain": [
       "<Figure size 2000x900 with 1 Axes>"
      ]
     },
     "metadata": {},
     "output_type": "display_data"
    }
   ],
   "source": [
    "df_0x1_trimmed = df_0x1.iloc[1:]\n",
    "sns.set(rc={'figure.figsize': (20, 9)})\n",
    "sns.barplot(data=df_0x1_trimmed, x=\"range in 10k\", y=\"number of wallets\")"
   ]
  },
  {
   "cell_type": "code",
   "execution_count": 8,
   "metadata": {},
   "outputs": [
    {
     "name": "stdout",
     "output_type": "stream",
     "text": [
      "More than 500000.0: 244\n",
      "100000.0 to 500000.0: 677\n",
      "10000.0 to 100000.0: 1182\n",
      "1000.0 to 10000.0: 660\n",
      "Less than 1000.0: 3291\n"
     ]
    }
   ],
   "source": [
    "levels_list = [5e5, 1e5, 1e4, 1e3]\n",
    "big_cheese = mongodb.get_number_lps_by_balances_range('0x1', lower=levels_list[0])\n",
    "small_fries = mongodb.get_number_lps_by_balances_range('0x1', upper=levels_list[-1])\n",
    "\n",
    "print(f\"More than {levels_list[0]}: {big_cheese}\")\n",
    "for i in range(len(levels_list)-1):\n",
    "    n = mongodb.get_number_lps_by_balances_range('0x1', upper=levels_list[i], lower=levels_list[i+1])\n",
    "    print(f\"{levels_list[i+1]} to {levels_list[i]}: {n}\")\n",
    "print(f\"Less than {levels_list[-1]}: {small_fries}\")"
   ]
  },
  {
   "attachments": {},
   "cell_type": "markdown",
   "metadata": {},
   "source": [
    "#### LP tokens on 0xfa"
   ]
  },
  {
   "cell_type": "code",
   "execution_count": 10,
   "metadata": {},
   "outputs": [
    {
     "data": {
      "text/html": [
       "<div>\n",
       "<style scoped>\n",
       "    .dataframe tbody tr th:only-of-type {\n",
       "        vertical-align: middle;\n",
       "    }\n",
       "\n",
       "    .dataframe tbody tr th {\n",
       "        vertical-align: top;\n",
       "    }\n",
       "\n",
       "    .dataframe thead th {\n",
       "        text-align: right;\n",
       "    }\n",
       "</style>\n",
       "<table border=\"1\" class=\"dataframe\">\n",
       "  <thead>\n",
       "    <tr style=\"text-align: right;\">\n",
       "      <th></th>\n",
       "      <th>range in 10k</th>\n",
       "      <th>number of wallets</th>\n",
       "    </tr>\n",
       "  </thead>\n",
       "  <tbody>\n",
       "    <tr>\n",
       "      <th>0</th>\n",
       "      <td>0</td>\n",
       "      <td>811</td>\n",
       "    </tr>\n",
       "    <tr>\n",
       "      <th>1</th>\n",
       "      <td>1</td>\n",
       "      <td>93</td>\n",
       "    </tr>\n",
       "    <tr>\n",
       "      <th>2</th>\n",
       "      <td>10</td>\n",
       "      <td>26</td>\n",
       "    </tr>\n",
       "    <tr>\n",
       "      <th>3</th>\n",
       "      <td>20</td>\n",
       "      <td>7</td>\n",
       "    </tr>\n",
       "    <tr>\n",
       "      <th>4</th>\n",
       "      <td>30</td>\n",
       "      <td>4</td>\n",
       "    </tr>\n",
       "  </tbody>\n",
       "</table>\n",
       "</div>"
      ],
      "text/plain": [
       "  range in 10k  number of wallets\n",
       "0            0                811\n",
       "1            1                 93\n",
       "2           10                 26\n",
       "3           20                  7\n",
       "4           30                  4"
      ]
     },
     "execution_count": 10,
     "metadata": {},
     "output_type": "execute_result"
    }
   ],
   "source": [
    "df_0xfa = get_dataframe('0xfa')\n",
    "df_0xfa.head()"
   ]
  },
  {
   "cell_type": "code",
   "execution_count": 11,
   "metadata": {},
   "outputs": [
    {
     "data": {
      "text/plain": [
       "<Axes: xlabel='range in 10k', ylabel='number of wallets'>"
      ]
     },
     "execution_count": 11,
     "metadata": {},
     "output_type": "execute_result"
    },
    {
     "data": {
      "image/png": "[encoded data removed]",
      "text/plain": [
       "<Figure size 2000x900 with 1 Axes>"
      ]
     },
     "metadata": {},
     "output_type": "display_data"
    }
   ],
   "source": [
    "df_0xfa_trimmed = df_0xfa.iloc[1:]\n",
    "sns.set(rc={'figure.figsize': (20, 9)})\n",
    "sns.barplot(data=df_0xfa_trimmed, x=\"range in 10k\", y=\"number of wallets\")"
   ]
  },
  {
   "cell_type": "code",
   "execution_count": 12,
   "metadata": {},
   "outputs": [
    {
     "name": "stdout",
     "output_type": "stream",
     "text": [
      "More than 500000.0: 28\n",
      "100000.0 to 500000.0: 23\n",
      "10000.0 to 100000.0: 57\n",
      "1000.0 to 10000.0: 93\n",
      "Less than 1000.0: 811\n"
     ]
    }
   ],
   "source": [
    "levels_list = [5e5, 1e5, 1e4, 1e3]\n",
    "big_cheese = mongodb.get_number_lps_by_balances_range('0xfa', lower=levels_list[0])\n",
    "small_fries = mongodb.get_number_lps_by_balances_range('0xfa', upper=levels_list[-1])\n",
    "\n",
    "print(f\"More than {levels_list[0]}: {big_cheese}\")\n",
    "for i in range(len(levels_list)-1):\n",
    "    n = mongodb.get_number_lps_by_balances_range('0xfa', upper=levels_list[i], lower=levels_list[i+1])\n",
    "    print(f\"{levels_list[i+1]} to {levels_list[i]}: {n}\")\n",
    "print(f\"Less than {levels_list[-1]}: {small_fries}\")"
   ]
  },
  {
   "attachments": {},
   "cell_type": "markdown",
   "metadata": {
    "collapsed": false
   },
   "source": [
    "## Dex Traders"
   ]
  },
  {
   "cell_type": "code",
   "execution_count": 3,
   "metadata": {
    "ExecuteTime": {
     "end_time": "2023-05-16T02:26:35.302782615Z",
     "start_time": "2023-05-16T02:26:35.281835652Z"
    },
    "collapsed": false
   },
   "outputs": [
    {
     "name": "stdout",
     "output_type": "stream",
     "text": [
      "pancakeswap: 18039\n",
      "spookyswap: 16275\n"
     ]
    }
   ],
   "source": [
    "c = MongoDB().count_deployed_chains_of_project('lendingpools', 'venus', '0x38')\n",
    "dexes = [\"pancakeswap\", \"spookyswap\"]\n",
    "for dex in dexes:\n",
    "    _filter = {f\"tradedlps.{dex}\": {\"$exists\": 1}}\n",
    "    print(f\"{dex}: {mongodb.count_wallets(_filter)}\")"
   ]
  }
 ],
 "metadata": {
  "kernelspec": {
   "display_name": "venv",
   "language": "python",
   "name": "venv"
  },
  "language_info": {
   "codemirror_mode": {
    "name": "ipython",
    "version": 3
   },
   "file_extension": ".py",
   "mimetype": "text/x-python",
   "name": "python",
   "nbconvert_exporter": "python",
   "pygments_lexer": "ipython3",
   "version": "3.10.10"
  }
 },
 "nbformat": 4,
 "nbformat_minor": 0
}
